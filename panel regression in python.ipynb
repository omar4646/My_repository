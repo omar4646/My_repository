{
 "cells": [
  {
   "cell_type": "code",
   "execution_count": 1,
   "id": "6492310a",
   "metadata": {},
   "outputs": [
    {
     "data": {
      "text/plain": [
       "'c:\\\\Users\\\\Alpha\\\\AppData\\\\Local\\\\Programs\\\\Microsoft VS Code'"
      ]
     },
     "execution_count": 1,
     "metadata": {},
     "output_type": "execute_result"
    }
   ],
   "source": [
    "import os\n",
    "os.getcwd()"
   ]
  },
  {
   "cell_type": "code",
   "execution_count": 6,
   "id": "772a06ee",
   "metadata": {},
   "outputs": [],
   "source": [
    "os.chdir('C:/Users/Alpha/Downloads')"
   ]
  },
  {
   "cell_type": "code",
   "execution_count": 8,
   "id": "239ded31",
   "metadata": {},
   "outputs": [
    {
     "data": {
      "text/plain": [
       "['16781_islomuz.pdf',\n",
       " '2025-template_bullet.docx',\n",
       " '636152513-L-Tafsiri-Hilol-2-juz.pdf',\n",
       " '636152523-Tafsiri-Hilol-1-juz.pdf',\n",
       " 'Accessible-MCS-Resume-Template-Bullet-Points.docx',\n",
       " 'book1.pdf',\n",
       " 'Cash Flow154918600.zip',\n",
       " 'desktop.ini',\n",
       " 'GlitteringRevolvingBoaconstrictor.mp4',\n",
       " 'Guns.dta',\n",
       " 'Hilol-eBook-installer_2.0.3.exe',\n",
       " 'Lecture Plan.pdf',\n",
       " 'letsvpn-latest.exe',\n",
       " 'ML Machine Learning-A Probabilistic Perspective.pdf',\n",
       " 'Patents Applied and Obtained at Home and Abroad014815152.zip',\n",
       " 'RD Investment141823660.zip',\n",
       " 'Telegram Desktop',\n",
       " 'Untitled.png',\n",
       " '~$ teaching plan-English fun class.doc',\n",
       " \"关于2025年硕士研究生学位论文中期进展报告、中期考核的通知 Notice of Mid-term Progress Report & Mid-Term Review on 2025 Master's Degree Thesis.zip\"]"
      ]
     },
     "execution_count": 8,
     "metadata": {},
     "output_type": "execute_result"
    }
   ],
   "source": [
    "os.listdir()"
   ]
  },
  {
   "cell_type": "code",
   "execution_count": 20,
   "id": "a351f90e",
   "metadata": {},
   "outputs": [
    {
     "data": {
      "text/plain": [
       "Index(['year', 'vio', 'mur', 'rob', 'incarc_rate', 'pb1064', 'pw1064',\n",
       "       'pm1029', 'pop', 'avginc', 'density', 'stateid', 'shall'],\n",
       "      dtype='object')"
      ]
     },
     "execution_count": 20,
     "metadata": {},
     "output_type": "execute_result"
    }
   ],
   "source": [
    "df.columns"
   ]
  },
  {
   "cell_type": "code",
   "execution_count": 22,
   "id": "d5c7d574",
   "metadata": {},
   "outputs": [],
   "source": [
    "import pandas as pd\n",
    "import numpy as np\n",
    "\n",
    "dataset = pd.read_csv('Guns.csv', usecols = ['stateid', 'year', 'avginc', 'vio'],\n",
    " index_col = ['stateid', 'year'])"
   ]
  },
  {
   "cell_type": "code",
   "execution_count": 25,
   "id": "815df1d1",
   "metadata": {},
   "outputs": [
    {
     "data": {
      "application/vnd.microsoft.datawrangler.viewer.v0+json": {
       "columns": [
        {
         "name": "('stateid', 'year')",
         "rawType": "object",
         "type": "unknown"
        },
        {
         "name": "vio",
         "rawType": "float64",
         "type": "float"
        },
        {
         "name": "avginc",
         "rawType": "float64",
         "type": "float"
        },
        {
         "name": "year",
         "rawType": "category",
         "type": "unknown"
        }
       ],
       "ref": "b0ed8d15-9bea-4c57-9162-8528175581e7",
       "rows": [
        [
         "(np.int64(1), np.int64(77))",
         "414.4",
         "9.5631485",
         "77"
        ],
        [
         "(np.int64(1), np.int64(78))",
         "419.1",
         "9.932",
         "78"
        ],
        [
         "(np.int64(1), np.int64(79))",
         "413.3",
         "9.8770275",
         "79"
        ],
        [
         "(np.int64(1), np.int64(80))",
         "448.5",
         "9.541428",
         "80"
        ],
        [
         "(np.int64(1), np.int64(81))",
         "470.5",
         "9.548351",
         "81"
        ],
        [
         "(np.int64(1), np.int64(82))",
         "447.7",
         "9.478919",
         "82"
        ],
        [
         "(np.int64(1), np.int64(83))",
         "416.0",
         "9.783",
         "83"
        ],
        [
         "(np.int64(1), np.int64(84))",
         "431.2",
         "10.3572",
         "84"
        ],
        [
         "(np.int64(1), np.int64(85))",
         "457.5",
         "10.725858",
         "85"
        ],
        [
         "(np.int64(1), np.int64(86))",
         "558.0",
         "11.091618",
         "86"
        ],
        [
         "(np.int64(1), np.int64(87))",
         "559.2",
         "11.323824",
         "87"
        ],
        [
         "(np.int64(1), np.int64(88))",
         "558.6",
         "11.654964",
         "88"
        ],
        [
         "(np.int64(1), np.int64(89))",
         "590.8",
         "11.963897",
         "89"
        ],
        [
         "(np.int64(1), np.int64(90))",
         "708.6",
         "12.063984",
         "90"
        ],
        [
         "(np.int64(1), np.int64(91))",
         "844.2",
         "12.087816",
         "91"
        ],
        [
         "(np.int64(1), np.int64(92))",
         "871.7",
         "12.39802",
         "92"
        ],
        [
         "(np.int64(1), np.int64(93))",
         "780.4",
         "12.3958",
         "93"
        ],
        [
         "(np.int64(1), np.int64(94))",
         "683.7",
         "12.67392",
         "94"
        ],
        [
         "(np.int64(1), np.int64(95))",
         "632.4",
         "12.872682",
         "95"
        ],
        [
         "(np.int64(1), np.int64(96))",
         "565.4",
         "12.908915",
         "96"
        ],
        [
         "(np.int64(1), np.int64(97))",
         "564.5",
         "13.121109",
         "97"
        ],
        [
         "(np.int64(1), np.int64(98))",
         "512.1",
         "13.514098",
         "98"
        ],
        [
         "(np.int64(1), np.int64(99))",
         "490.2",
         "13.737256",
         "99"
        ],
        [
         "(np.int64(2), np.int64(77))",
         "443.2",
         "20.296825",
         "77"
        ],
        [
         "(np.int64(2), np.int64(78))",
         "441.9",
         "19.044992",
         "78"
        ],
        [
         "(np.int64(2), np.int64(79))",
         "491.1",
         "18.115889",
         "79"
        ],
        [
         "(np.int64(2), np.int64(80))",
         "436.0",
         "17.901663",
         "80"
        ],
        [
         "(np.int64(2), np.int64(81))",
         "615.8",
         "18.075232",
         "81"
        ],
        [
         "(np.int64(2), np.int64(82))",
         "623.7",
         "18.967127",
         "82"
        ],
        [
         "(np.int64(2), np.int64(83))",
         "613.8",
         "19.045",
         "83"
        ],
        [
         "(np.int64(2), np.int64(84))",
         "621.6",
         "18.590216",
         "84"
        ],
        [
         "(np.int64(2), np.int64(85))",
         "581.8",
         "18.7052",
         "85"
        ],
        [
         "(np.int64(2), np.int64(86))",
         "570.4",
         "17.906391",
         "86"
        ],
        [
         "(np.int64(2), np.int64(87))",
         "455.4",
         "16.955917",
         "87"
        ],
        [
         "(np.int64(2), np.int64(88))",
         "522.8",
         "16.740644",
         "88"
        ],
        [
         "(np.int64(2), np.int64(89))",
         "497.7",
         "17.285378",
         "89"
        ],
        [
         "(np.int64(2), np.int64(90))",
         "524.5",
         "17.311878",
         "90"
        ],
        [
         "(np.int64(2), np.int64(91))",
         "613.9",
         "17.005983",
         "91"
        ],
        [
         "(np.int64(2), np.int64(92))",
         "660.5",
         "16.97823",
         "92"
        ],
        [
         "(np.int64(2), np.int64(93))",
         "760.8",
         "17.067907",
         "93"
        ],
        [
         "(np.int64(2), np.int64(94))",
         "766.3",
         "16.970016",
         "94"
        ],
        [
         "(np.int64(2), np.int64(95))",
         "770.9",
         "16.871891",
         "95"
        ],
        [
         "(np.int64(2), np.int64(96))",
         "727.7",
         "16.546194",
         "96"
        ],
        [
         "(np.int64(2), np.int64(97))",
         "701.1",
         "16.816679",
         "97"
        ],
        [
         "(np.int64(2), np.int64(98))",
         "653.9",
         "17.07745",
         "98"
        ],
        [
         "(np.int64(2), np.int64(99))",
         "631.5",
         "17.120142",
         "99"
        ],
        [
         "(np.int64(4), np.int64(77))",
         "494.2",
         "10.919448",
         "77"
        ],
        [
         "(np.int64(4), np.int64(78))",
         "552.1",
         "11.591408",
         "78"
        ],
        [
         "(np.int64(4), np.int64(79))",
         "593.0",
         "11.8046875",
         "79"
        ],
        [
         "(np.int64(4), np.int64(80))",
         "650.9",
         "11.59431",
         "80"
        ]
       ],
       "shape": {
        "columns": 3,
        "rows": 1173
       }
      },
      "text/html": [
       "<div>\n",
       "<style scoped>\n",
       "    .dataframe tbody tr th:only-of-type {\n",
       "        vertical-align: middle;\n",
       "    }\n",
       "\n",
       "    .dataframe tbody tr th {\n",
       "        vertical-align: top;\n",
       "    }\n",
       "\n",
       "    .dataframe thead th {\n",
       "        text-align: right;\n",
       "    }\n",
       "</style>\n",
       "<table border=\"1\" class=\"dataframe\">\n",
       "  <thead>\n",
       "    <tr style=\"text-align: right;\">\n",
       "      <th></th>\n",
       "      <th></th>\n",
       "      <th>vio</th>\n",
       "      <th>avginc</th>\n",
       "      <th>year</th>\n",
       "    </tr>\n",
       "    <tr>\n",
       "      <th>stateid</th>\n",
       "      <th>year</th>\n",
       "      <th></th>\n",
       "      <th></th>\n",
       "      <th></th>\n",
       "    </tr>\n",
       "  </thead>\n",
       "  <tbody>\n",
       "    <tr>\n",
       "      <th rowspan=\"5\" valign=\"top\">1</th>\n",
       "      <th>77</th>\n",
       "      <td>414.4</td>\n",
       "      <td>9.563149</td>\n",
       "      <td>77</td>\n",
       "    </tr>\n",
       "    <tr>\n",
       "      <th>78</th>\n",
       "      <td>419.1</td>\n",
       "      <td>9.932000</td>\n",
       "      <td>78</td>\n",
       "    </tr>\n",
       "    <tr>\n",
       "      <th>79</th>\n",
       "      <td>413.3</td>\n",
       "      <td>9.877028</td>\n",
       "      <td>79</td>\n",
       "    </tr>\n",
       "    <tr>\n",
       "      <th>80</th>\n",
       "      <td>448.5</td>\n",
       "      <td>9.541428</td>\n",
       "      <td>80</td>\n",
       "    </tr>\n",
       "    <tr>\n",
       "      <th>81</th>\n",
       "      <td>470.5</td>\n",
       "      <td>9.548351</td>\n",
       "      <td>81</td>\n",
       "    </tr>\n",
       "    <tr>\n",
       "      <th>...</th>\n",
       "      <th>...</th>\n",
       "      <td>...</td>\n",
       "      <td>...</td>\n",
       "      <td>...</td>\n",
       "    </tr>\n",
       "    <tr>\n",
       "      <th rowspan=\"5\" valign=\"top\">56</th>\n",
       "      <th>95</th>\n",
       "      <td>254.2</td>\n",
       "      <td>14.070156</td>\n",
       "      <td>95</td>\n",
       "    </tr>\n",
       "    <tr>\n",
       "      <th>96</th>\n",
       "      <td>249.7</td>\n",
       "      <td>14.032229</td>\n",
       "      <td>96</td>\n",
       "    </tr>\n",
       "    <tr>\n",
       "      <th>97</th>\n",
       "      <td>255.2</td>\n",
       "      <td>14.790978</td>\n",
       "      <td>97</td>\n",
       "    </tr>\n",
       "    <tr>\n",
       "      <th>98</th>\n",
       "      <td>247.6</td>\n",
       "      <td>15.225509</td>\n",
       "      <td>98</td>\n",
       "    </tr>\n",
       "    <tr>\n",
       "      <th>99</th>\n",
       "      <td>232.3</td>\n",
       "      <td>15.765074</td>\n",
       "      <td>99</td>\n",
       "    </tr>\n",
       "  </tbody>\n",
       "</table>\n",
       "<p>1173 rows × 3 columns</p>\n",
       "</div>"
      ],
      "text/plain": [
       "                vio     avginc year\n",
       "stateid year                       \n",
       "1       77    414.4   9.563149   77\n",
       "        78    419.1   9.932000   78\n",
       "        79    413.3   9.877028   79\n",
       "        80    448.5   9.541428   80\n",
       "        81    470.5   9.548351   81\n",
       "...             ...        ...  ...\n",
       "56      95    254.2  14.070156   95\n",
       "        96    249.7  14.032229   96\n",
       "        97    255.2  14.790978   97\n",
       "        98    247.6  15.225509   98\n",
       "        99    232.3  15.765074   99\n",
       "\n",
       "[1173 rows x 3 columns]"
      ]
     },
     "execution_count": 25,
     "metadata": {},
     "output_type": "execute_result"
    }
   ],
   "source": [
    "dataset"
   ]
  },
  {
   "cell_type": "code",
   "execution_count": 24,
   "id": "0b912ce0",
   "metadata": {},
   "outputs": [],
   "source": [
    "years = dataset.index.get_level_values('year').to_list()\n",
    "dataset['year'] = pd.Categorical(years)"
   ]
  },
  {
   "cell_type": "markdown",
   "id": "174dcc52",
   "metadata": {},
   "source": [
    "Assumotions:\n",
    "These assumptions are (1) Linearity, (2) Exogeneity, (3a) Homoskedasticity and (3b) Non-autocorrelation, (4) Independent variables are not Stochastic and (5) No Multicolinearity.\n",
    "\n",
    "If assumption (2) or (3) (or both) are violated, then FE or RE might be more suitable."
   ]
  },
  {
   "cell_type": "code",
   "execution_count": 26,
   "id": "2c2cb55b",
   "metadata": {},
   "outputs": [],
   "source": [
    "# Perform PooledOLS\n",
    "from linearmodels import PooledOLS\n",
    "import statsmodels.api as sm\n",
    "\n",
    "exog = sm.tools.tools.add_constant(dataset['avginc'])\n",
    "endog = dataset['vio']\n",
    "mod = PooledOLS(endog, exog)\n",
    "pooledOLS_res = mod.fit(cov_type='clustered', cluster_entity=True)\n",
    "\n",
    "# Store values for checking homoskedasticity graphically\n",
    "fittedvals_pooled_OLS = pooledOLS_res.predict().fitted_values\n",
    "residuals_pooled_OLS = pooledOLS_res.resids"
   ]
  },
  {
   "cell_type": "markdown",
   "id": "606eb143",
   "metadata": {},
   "source": [
    "Check condition 3:\n",
    "\n"
   ]
  },
  {
   "cell_type": "code",
   "execution_count": 27,
   "id": "1fdfa10a",
   "metadata": {},
   "outputs": [
    {
     "data": {
      "image/png": "[encoded data removed]",
      "text/plain": [
       "<Figure size 640x480 with 1 Axes>"
      ]
     },
     "metadata": {},
     "output_type": "display_data"
    }
   ],
   "source": [
    "# 3A. Homoskedasticity\n",
    "import matplotlib.pyplot as plt\n",
    "\n",
    " # 3A.1 Residuals-Plot for growing Variance Detection\n",
    "fig, ax = plt.subplots()\n",
    "ax.scatter(fittedvals_pooled_OLS, residuals_pooled_OLS, color = 'blue')\n",
    "ax.axhline(0, color = 'r', ls = '--')\n",
    "ax.set_xlabel('Predicted Values', fontsize = 15)\n",
    "ax.set_ylabel('Residuals', fontsize = 15)\n",
    "ax.set_title('Homoskedasticity Test', fontsize = 30)\n",
    "plt.show()"
   ]
  },
  {
   "cell_type": "markdown",
   "id": "4f700050",
   "metadata": {},
   "source": [
    "Basically, a residuals-plot represents predicted values (x-axis) vs. residuals (y-axis). If the plotted data points spread out, this is an indicator for growing variance and thus, for heteroskedasticity. Since this seems to be the case in our example, we might have the first violation. But let´s check this with the White- and the Breusch-Pagan-Test:"
   ]
  },
  {
   "cell_type": "code",
   "execution_count": 29,
   "id": "7cc66b8a",
   "metadata": {},
   "outputs": [
    {
     "name": "stdout",
     "output_type": "stream",
     "text": [
      "{'LM-Stat': np.float64(200.15502493784587), 'LM p-val': np.float64(3.442615915038229e-44), 'F-Stat': np.float64(120.3590423861304), 'F p-val': np.float64(2.9254476143351516e-48)}\n",
      "{'LM-Stat': np.float64(110.96166679034808), 'LM p-val': np.float64(6.032597654720378e-26), 'F-Stat': np.float64(122.34597165509983), 'F p-val': np.float64(4.048123317703663e-27)}\n"
     ]
    }
   ],
   "source": [
    "\n",
    "# 3A.2 White-Test\n",
    "from statsmodels.stats.diagnostic import het_white, het_breuschpagan\n",
    "pooled_OLS_dataset = pd.concat([dataset, residuals_pooled_OLS], axis=1)\n",
    "pooled_OLS_dataset = pooled_OLS_dataset.drop(['year'], axis = 1).fillna(0)\n",
    "exog = sm.tools.tools.add_constant(dataset['avginc']).fillna(0)\n",
    "white_test_results = het_white(pooled_OLS_dataset['residual'], exog)\n",
    "labels = ['LM-Stat', 'LM p-val', 'F-Stat', 'F p-val'] \n",
    "print(dict(zip(labels, white_test_results)))\n",
    "\n",
    "# 3A.3 Breusch-Pagan-Test\n",
    "breusch_pagan_test_results = het_breuschpagan(pooled_OLS_dataset['residual'], exog)\n",
    "labels = ['LM-Stat', 'LM p-val', 'F-Stat', 'F p-val'] \n",
    "print(dict(zip(labels, breusch_pagan_test_results)))"
   ]
  },
  {
   "cell_type": "markdown",
   "id": "b8787a16",
   "metadata": {},
   "source": [
    "Therefore, we have proven our first violation! Let´s perform assumption 3b:"
   ]
  },
  {
   "cell_type": "code",
   "execution_count": 30,
   "id": "d2560d44",
   "metadata": {},
   "outputs": [
    {
     "name": "stdout",
     "output_type": "stream",
     "text": [
      "0.08937263778978369\n"
     ]
    }
   ],
   "source": [
    "# 3.B Non-Autocorrelation\n",
    "# Durbin-Watson-Test\n",
    "from statsmodels.stats.stattools import durbin_watson\n",
    "\n",
    "durbin_watson_test_results = durbin_watson(pooled_OLS_dataset['residual']) \n",
    "print(durbin_watson_test_results)"
   ]
  },
  {
   "cell_type": "markdown",
   "id": "fa711b3a",
   "metadata": {},
   "source": [
    "The Durbin-Watson-Test will have one output between 0 – 4. The mean (= 2) would indicate that there is no autocorrelation identified, 0 – 2 means positive autocorrelation (the nearer to zero the higher the correlation), and 2 – 4 means negative autocorrelation (the nearer to four the higher the correlation). In our example, the result is 0.08937264851640213, which clearly indicates strong positive autocorrelation."
   ]
  },
  {
   "cell_type": "markdown",
   "id": "0d74b191",
   "metadata": {},
   "source": [
    "As a consequence, assumption 3b is also violated, so it seems that a FE-/RE-model will be more suitable."
   ]
  },
  {
   "cell_type": "markdown",
   "id": "f909b037",
   "metadata": {},
   "source": [
    "Step 3: Perform FE- and RE-model\n",
    "\n"
   ]
  },
  {
   "cell_type": "code",
   "execution_count": 32,
   "id": "e466d1ef",
   "metadata": {},
   "outputs": [
    {
     "name": "stdout",
     "output_type": "stream",
     "text": [
      "                        RandomEffects Estimation Summary                        \n",
      "================================================================================\n",
      "Dep. Variable:                    vio   R-squared:                        0.1128\n",
      "Estimator:              RandomEffects   R-squared (Between):              0.1159\n",
      "No. Observations:                1173   R-squared (Within):               0.1127\n",
      "Date:                Mon, Oct 06 2025   R-squared (Overall):              0.1156\n",
      "Time:                        03:14:59   Log-likelihood                   -7109.8\n",
      "Cov. Estimator:            Unadjusted                                           \n",
      "                                        F-statistic:                      148.90\n",
      "Entities:                          51   P-value                           0.0000\n",
      "Avg Obs:                       23.000   Distribution:                  F(1,1171)\n",
      "Min Obs:                       23.000                                           \n",
      "Max Obs:                       23.000   F-statistic (robust):             148.90\n",
      "                                        P-value                           0.0000\n",
      "Time periods:                      23   Distribution:                  F(1,1171)\n",
      "Avg Obs:                       51.000                                           \n",
      "Min Obs:                       51.000                                           \n",
      "Max Obs:                       51.000                                           \n",
      "                                                                                \n",
      "                             Parameter Estimates                              \n",
      "==============================================================================\n",
      "            Parameter  Std. Err.     T-stat    P-value    Lower CI    Upper CI\n",
      "------------------------------------------------------------------------------\n",
      "const          175.39     48.461     3.6193     0.0003      80.314      270.48\n",
      "avginc         23.875     1.9566     12.203     0.0000      20.036      27.714\n",
      "==============================================================================\n",
      "                          PanelOLS Estimation Summary                           \n",
      "================================================================================\n",
      "Dep. Variable:                    vio   R-squared:                        0.1127\n",
      "Estimator:                   PanelOLS   R-squared (Between):              0.1141\n",
      "No. Observations:                1173   R-squared (Within):               0.1127\n",
      "Date:                Mon, Oct 06 2025   R-squared (Overall):              0.1140\n",
      "Time:                        03:14:59   Log-likelihood                   -7081.9\n",
      "Cov. Estimator:            Unadjusted                                           \n",
      "                                        F-statistic:                      142.39\n",
      "Entities:                          51   P-value                           0.0000\n",
      "Avg Obs:                       23.000   Distribution:                  F(1,1121)\n",
      "Min Obs:                       23.000                                           \n",
      "Max Obs:                       23.000   F-statistic (robust):             142.39\n",
      "                                        P-value                           0.0000\n",
      "Time periods:                      23   Distribution:                  F(1,1121)\n",
      "Avg Obs:                       51.000                                           \n",
      "Min Obs:                       51.000                                           \n",
      "Max Obs:                       51.000                                           \n",
      "                                                                                \n",
      "                             Parameter Estimates                              \n",
      "==============================================================================\n",
      "            Parameter  Std. Err.     T-stat    P-value    Lower CI    Upper CI\n",
      "------------------------------------------------------------------------------\n",
      "const          181.70     27.101     6.7046     0.0000      128.53      234.88\n",
      "avginc         23.415     1.9623     11.933     0.0000      19.565      27.265\n",
      "==============================================================================\n",
      "\n",
      "F-test for Poolability: 180.75\n",
      "P-value: 0.0000\n",
      "Distribution: F(50,1121)\n",
      "\n",
      "Included effects: Entity\n"
     ]
    }
   ],
   "source": [
    "# FE und RE model\n",
    "from linearmodels import PanelOLS\n",
    "from linearmodels import RandomEffects\n",
    "exog = sm.tools.tools.add_constant(dataset['avginc'])\n",
    "endog = dataset['vio']\n",
    "\n",
    "# random effects model\n",
    "model_re = RandomEffects(endog, exog) \n",
    "re_res = model_re.fit() \n",
    "\n",
    "# fixed effects model\n",
    "model_fe = PanelOLS(endog, exog, entity_effects = True) \n",
    "fe_res = model_fe.fit() \n",
    "\n",
    "#print results\n",
    "print(re_res)\n",
    "print(fe_res)"
   ]
  },
  {
   "cell_type": "markdown",
   "id": "0b4a8b29",
   "metadata": {},
   "source": [
    "In this example, both perform similar (although, FE seems to perform slightly better). So, in order to test which model should be preferred, we will finally perfom the Hausman-test."
   ]
  },
  {
   "cell_type": "markdown",
   "id": "d7482d29",
   "metadata": {},
   "source": [
    "Step 4: Perform Hausman-Test\n",
    "\n"
   ]
  },
  {
   "cell_type": "code",
   "execution_count": 40,
   "id": "9b2d8317",
   "metadata": {},
   "outputs": [
    {
     "name": "stdout",
     "output_type": "stream",
     "text": [
      "chi-Squared: 9.426374052689594\n",
      "degrees of freedom: 2\n",
      "p-Value: 0.008976124801888039\n"
     ]
    }
   ],
   "source": [
    "import numpy.linalg as la\n",
    "from scipy import stats\n",
    "import numpy as np\n",
    "def hausman(fe, re):\n",
    "    b = fe.params\n",
    "    B = re.params\n",
    "    v_b = fe.cov\n",
    "    v_B = re.cov\n",
    "    dataset = b[np.abs(b) < 1e8].size\n",
    "    chi2 = np.dot((b - B).T, la.inv(v_b - v_B).dot(b - B)) \n",
    "\n",
    "    pval = stats.chi2.sf(chi2, dataset)\n",
    "    return chi2, dataset, pval\n",
    "hausman_results = hausman(fe_res, re_res) \n",
    "print('chi-Squared: ' + str(hausman_results[0]))\n",
    "print('degrees of freedom: ' + str(hausman_results[1]))\n",
    "print('p-Value: ' + str(hausman_results[2]))"
   ]
  },
  {
   "cell_type": "code",
   "execution_count": null,
   "id": "6a7bf80c",
   "metadata": {},
   "outputs": [
    {
     "data": {
      "application/vnd.microsoft.datawrangler.viewer.v0+json": {
       "columns": [
        {
         "name": "('stateid', 'year')",
         "rawType": "object",
         "type": "unknown"
        },
        {
         "name": "vio",
         "rawType": "float64",
         "type": "float"
        },
        {
         "name": "avginc",
         "rawType": "float64",
         "type": "float"
        },
        {
         "name": "year",
         "rawType": "category",
         "type": "unknown"
        }
       ],
       "ref": "7d17eac4-e373-4fa1-b78e-70e6feebc15a",
       "rows": [
        [
         "(np.int64(1), np.int64(77))",
         "414.4",
         "9.5631485",
         "77"
        ],
        [
         "(np.int64(1), np.int64(78))",
         "419.1",
         "9.932",
         "78"
        ],
        [
         "(np.int64(1), np.int64(79))",
         "413.3",
         "9.8770275",
         "79"
        ],
        [
         "(np.int64(1), np.int64(80))",
         "448.5",
         "9.541428",
         "80"
        ],
        [
         "(np.int64(1), np.int64(81))",
         "470.5",
         "9.548351",
         "81"
        ],
        [
         "(np.int64(1), np.int64(82))",
         "447.7",
         "9.478919",
         "82"
        ],
        [
         "(np.int64(1), np.int64(83))",
         "416.0",
         "9.783",
         "83"
        ],
        [
         "(np.int64(1), np.int64(84))",
         "431.2",
         "10.3572",
         "84"
        ],
        [
         "(np.int64(1), np.int64(85))",
         "457.5",
         "10.725858",
         "85"
        ],
        [
         "(np.int64(1), np.int64(86))",
         "558.0",
         "11.091618",
         "86"
        ],
        [
         "(np.int64(1), np.int64(87))",
         "559.2",
         "11.323824",
         "87"
        ],
        [
         "(np.int64(1), np.int64(88))",
         "558.6",
         "11.654964",
         "88"
        ],
        [
         "(np.int64(1), np.int64(89))",
         "590.8",
         "11.963897",
         "89"
        ],
        [
         "(np.int64(1), np.int64(90))",
         "708.6",
         "12.063984",
         "90"
        ],
        [
         "(np.int64(1), np.int64(91))",
         "844.2",
         "12.087816",
         "91"
        ],
        [
         "(np.int64(1), np.int64(92))",
         "871.7",
         "12.39802",
         "92"
        ],
        [
         "(np.int64(1), np.int64(93))",
         "780.4",
         "12.3958",
         "93"
        ],
        [
         "(np.int64(1), np.int64(94))",
         "683.7",
         "12.67392",
         "94"
        ],
        [
         "(np.int64(1), np.int64(95))",
         "632.4",
         "12.872682",
         "95"
        ],
        [
         "(np.int64(1), np.int64(96))",
         "565.4",
         "12.908915",
         "96"
        ],
        [
         "(np.int64(1), np.int64(97))",
         "564.5",
         "13.121109",
         "97"
        ],
        [
         "(np.int64(1), np.int64(98))",
         "512.1",
         "13.514098",
         "98"
        ],
        [
         "(np.int64(1), np.int64(99))",
         "490.2",
         "13.737256",
         "99"
        ],
        [
         "(np.int64(2), np.int64(77))",
         "443.2",
         "20.296825",
         "77"
        ],
        [
         "(np.int64(2), np.int64(78))",
         "441.9",
         "19.044992",
         "78"
        ],
        [
         "(np.int64(2), np.int64(79))",
         "491.1",
         "18.115889",
         "79"
        ],
        [
         "(np.int64(2), np.int64(80))",
         "436.0",
         "17.901663",
         "80"
        ],
        [
         "(np.int64(2), np.int64(81))",
         "615.8",
         "18.075232",
         "81"
        ],
        [
         "(np.int64(2), np.int64(82))",
         "623.7",
         "18.967127",
         "82"
        ],
        [
         "(np.int64(2), np.int64(83))",
         "613.8",
         "19.045",
         "83"
        ],
        [
         "(np.int64(2), np.int64(84))",
         "621.6",
         "18.590216",
         "84"
        ],
        [
         "(np.int64(2), np.int64(85))",
         "581.8",
         "18.7052",
         "85"
        ],
        [
         "(np.int64(2), np.int64(86))",
         "570.4",
         "17.906391",
         "86"
        ],
        [
         "(np.int64(2), np.int64(87))",
         "455.4",
         "16.955917",
         "87"
        ],
        [
         "(np.int64(2), np.int64(88))",
         "522.8",
         "16.740644",
         "88"
        ],
        [
         "(np.int64(2), np.int64(89))",
         "497.7",
         "17.285378",
         "89"
        ],
        [
         "(np.int64(2), np.int64(90))",
         "524.5",
         "17.311878",
         "90"
        ],
        [
         "(np.int64(2), np.int64(91))",
         "613.9",
         "17.005983",
         "91"
        ],
        [
         "(np.int64(2), np.int64(92))",
         "660.5",
         "16.97823",
         "92"
        ],
        [
         "(np.int64(2), np.int64(93))",
         "760.8",
         "17.067907",
         "93"
        ],
        [
         "(np.int64(2), np.int64(94))",
         "766.3",
         "16.970016",
         "94"
        ],
        [
         "(np.int64(2), np.int64(95))",
         "770.9",
         "16.871891",
         "95"
        ],
        [
         "(np.int64(2), np.int64(96))",
         "727.7",
         "16.546194",
         "96"
        ],
        [
         "(np.int64(2), np.int64(97))",
         "701.1",
         "16.816679",
         "97"
        ],
        [
         "(np.int64(2), np.int64(98))",
         "653.9",
         "17.07745",
         "98"
        ],
        [
         "(np.int64(2), np.int64(99))",
         "631.5",
         "17.120142",
         "99"
        ],
        [
         "(np.int64(4), np.int64(77))",
         "494.2",
         "10.919448",
         "77"
        ],
        [
         "(np.int64(4), np.int64(78))",
         "552.1",
         "11.591408",
         "78"
        ],
        [
         "(np.int64(4), np.int64(79))",
         "593.0",
         "11.8046875",
         "79"
        ],
        [
         "(np.int64(4), np.int64(80))",
         "650.9",
         "11.59431",
         "80"
        ]
       ],
       "shape": {
        "columns": 3,
        "rows": 1173
       }
      },
      "text/html": [
       "<div>\n",
       "<style scoped>\n",
       "    .dataframe tbody tr th:only-of-type {\n",
       "        vertical-align: middle;\n",
       "    }\n",
       "\n",
       "    .dataframe tbody tr th {\n",
       "        vertical-align: top;\n",
       "    }\n",
       "\n",
       "    .dataframe thead th {\n",
       "        text-align: right;\n",
       "    }\n",
       "</style>\n",
       "<table border=\"1\" class=\"dataframe\">\n",
       "  <thead>\n",
       "    <tr style=\"text-align: right;\">\n",
       "      <th></th>\n",
       "      <th></th>\n",
       "      <th>vio</th>\n",
       "      <th>avginc</th>\n",
       "      <th>year</th>\n",
       "    </tr>\n",
       "    <tr>\n",
       "      <th>stateid</th>\n",
       "      <th>year</th>\n",
       "      <th></th>\n",
       "      <th></th>\n",
       "      <th></th>\n",
       "    </tr>\n",
       "  </thead>\n",
       "  <tbody>\n",
       "    <tr>\n",
       "      <th rowspan=\"5\" valign=\"top\">1</th>\n",
       "      <th>77</th>\n",
       "      <td>414.4</td>\n",
       "      <td>9.563149</td>\n",
       "      <td>77</td>\n",
       "    </tr>\n",
       "    <tr>\n",
       "      <th>78</th>\n",
       "      <td>419.1</td>\n",
       "      <td>9.932000</td>\n",
       "      <td>78</td>\n",
       "    </tr>\n",
       "    <tr>\n",
       "      <th>79</th>\n",
       "      <td>413.3</td>\n",
       "      <td>9.877028</td>\n",
       "      <td>79</td>\n",
       "    </tr>\n",
       "    <tr>\n",
       "      <th>80</th>\n",
       "      <td>448.5</td>\n",
       "      <td>9.541428</td>\n",
       "      <td>80</td>\n",
       "    </tr>\n",
       "    <tr>\n",
       "      <th>81</th>\n",
       "      <td>470.5</td>\n",
       "      <td>9.548351</td>\n",
       "      <td>81</td>\n",
       "    </tr>\n",
       "    <tr>\n",
       "      <th>...</th>\n",
       "      <th>...</th>\n",
       "      <td>...</td>\n",
       "      <td>...</td>\n",
       "      <td>...</td>\n",
       "    </tr>\n",
       "    <tr>\n",
       "      <th rowspan=\"5\" valign=\"top\">56</th>\n",
       "      <th>95</th>\n",
       "      <td>254.2</td>\n",
       "      <td>14.070156</td>\n",
       "      <td>95</td>\n",
       "    </tr>\n",
       "    <tr>\n",
       "      <th>96</th>\n",
       "      <td>249.7</td>\n",
       "      <td>14.032229</td>\n",
       "      <td>96</td>\n",
       "    </tr>\n",
       "    <tr>\n",
       "      <th>97</th>\n",
       "      <td>255.2</td>\n",
       "      <td>14.790978</td>\n",
       "      <td>97</td>\n",
       "    </tr>\n",
       "    <tr>\n",
       "      <th>98</th>\n",
       "      <td>247.6</td>\n",
       "      <td>15.225509</td>\n",
       "      <td>98</td>\n",
       "    </tr>\n",
       "    <tr>\n",
       "      <th>99</th>\n",
       "      <td>232.3</td>\n",
       "      <td>15.765074</td>\n",
       "      <td>99</td>\n",
       "    </tr>\n",
       "  </tbody>\n",
       "</table>\n",
       "<p>1173 rows × 3 columns</p>\n",
       "</div>"
      ],
      "text/plain": [
       "                vio     avginc year\n",
       "stateid year                       \n",
       "1       77    414.4   9.563149   77\n",
       "        78    419.1   9.932000   78\n",
       "        79    413.3   9.877028   79\n",
       "        80    448.5   9.541428   80\n",
       "        81    470.5   9.548351   81\n",
       "...             ...        ...  ...\n",
       "56      95    254.2  14.070156   95\n",
       "        96    249.7  14.032229   96\n",
       "        97    255.2  14.790978   97\n",
       "        98    247.6  15.225509   98\n",
       "        99    232.3  15.765074   99\n",
       "\n",
       "[1173 rows x 3 columns]"
      ]
     },
     "execution_count": 41,
     "metadata": {},
     "output_type": "execute_result"
    }
   ],
   "source": [
    "dataset "
   ]
  },
  {
   "cell_type": "code",
   "execution_count": null,
   "id": "6780df3f",
   "metadata": {},
   "outputs": [],
   "source": []
  }
 ],
 "metadata": {
  "kernelspec": {
   "display_name": "myenv (3.13.3)",
   "language": "python",
   "name": "python3"
  },
  "language_info": {
   "codemirror_mode": {
    "name": "ipython",
    "version": 3
   },
   "file_extension": ".py",
   "mimetype": "text/x-python",
   "name": "python",
   "nbconvert_exporter": "python",
   "pygments_lexer": "ipython3",
   "version": "3.13.3"
  }
 },
 "nbformat": 4,
 "nbformat_minor": 5
}
