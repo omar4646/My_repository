{
  "nbformat": 4,
  "nbformat_minor": 0,
  "metadata": {
    "colab": {
      "provenance": [],
      "authorship_tag": "ABX9TyOExyNcZGktshMczryyC5tH",
      "include_colab_link": true
    },
    "kernelspec": {
      "name": "python3",
      "display_name": "Python 3"
    },
    "language_info": {
      "name": "python"
    }
  },
  "cells": [
    {
      "cell_type": "markdown",
      "metadata": {
        "id": "view-in-github",
        "colab_type": "text"
      },
      "source": [
        "<a href=\"https://colab.research.google.com/github/omar4646/My_repository/blob/main/Python_dictionary_tutorial.ipynb\" target=\"_parent\"><img src=\"https://colab.research.google.com/assets/colab-badge.svg\" alt=\"Open In Colab\"/></a>"
      ]
    },
    {
      "cell_type": "code",
      "source": [
        "import pandas as pd\n",
        "import numpy as np"
      ],
      "metadata": {
        "id": "SF34qoYQFPyA"
      },
      "execution_count": 14,
      "outputs": []
    },
    {
      "cell_type": "code",
      "execution_count": 15,
      "metadata": {
        "colab": {
          "base_uri": "https://localhost:8080/"
        },
        "id": "dxEob631FLxc",
        "outputId": "b0f9c4b8-2205-4ae7-b9f7-8dabba699cdb"
      },
      "outputs": [
        {
          "output_type": "execute_result",
          "data": {
            "text/plain": [
              "dict"
            ]
          },
          "metadata": {},
          "execution_count": 15
        }
      ],
      "source": [
        "dict = {'name': 'Zara',\n",
        "        'age': 7,\n",
        "        'class': 'First'}\n",
        "type(dict)"
      ]
    },
    {
      "cell_type": "code",
      "source": [
        "dict.get('age')\n"
      ],
      "metadata": {
        "colab": {
          "base_uri": "https://localhost:8080/"
        },
        "id": "uKKAfWXcFll5",
        "outputId": "189cc7b7-1ed6-4814-8273-6f8441e93978"
      },
      "execution_count": 16,
      "outputs": [
        {
          "output_type": "execute_result",
          "data": {
            "text/plain": [
              "7"
            ]
          },
          "metadata": {},
          "execution_count": 16
        }
      ]
    },
    {
      "cell_type": "code",
      "source": [
        "dict.keys()"
      ],
      "metadata": {
        "colab": {
          "base_uri": "https://localhost:8080/"
        },
        "id": "3OI7mIBrFxtY",
        "outputId": "ddfcbedb-4fcc-4441-e970-63ea703d70a9"
      },
      "execution_count": 17,
      "outputs": [
        {
          "output_type": "execute_result",
          "data": {
            "text/plain": [
              "dict_keys(['name', 'age', 'class'])"
            ]
          },
          "metadata": {},
          "execution_count": 17
        }
      ]
    },
    {
      "cell_type": "code",
      "source": [
        "dict.values()\n"
      ],
      "metadata": {
        "colab": {
          "base_uri": "https://localhost:8080/"
        },
        "id": "gMG89SkHGeqP",
        "outputId": "6905c0e9-dec6-4aea-e261-0944d4426819"
      },
      "execution_count": 18,
      "outputs": [
        {
          "output_type": "execute_result",
          "data": {
            "text/plain": [
              "dict_values(['Zara', 7, 'First'])"
            ]
          },
          "metadata": {},
          "execution_count": 18
        }
      ]
    },
    {
      "cell_type": "code",
      "source": [
        "dict.update({'name': 'Omar', 'Nationality': 'Uzbekistani'})\n",
        "dict"
      ],
      "metadata": {
        "colab": {
          "base_uri": "https://localhost:8080/"
        },
        "id": "Qip6KTW7GhaO",
        "outputId": "997c6ad8-3280-40c3-ea10-d2271e5170cd"
      },
      "execution_count": 19,
      "outputs": [
        {
          "output_type": "execute_result",
          "data": {
            "text/plain": [
              "{'name': 'Omar', 'age': 7, 'class': 'First', 'Nationality': 'Uzbekistani'}"
            ]
          },
          "metadata": {},
          "execution_count": 19
        }
      ]
    },
    {
      "cell_type": "code",
      "source": [
        "dict.items()"
      ],
      "metadata": {
        "colab": {
          "base_uri": "https://localhost:8080/"
        },
        "id": "40NwkVSdHDaS",
        "outputId": "b64504aa-e8e5-4e33-c52b-74fe6d78a744"
      },
      "execution_count": 20,
      "outputs": [
        {
          "output_type": "execute_result",
          "data": {
            "text/plain": [
              "dict_items([('name', 'Omar'), ('age', 7), ('class', 'First'), ('Nationality', 'Uzbekistani')])"
            ]
          },
          "metadata": {},
          "execution_count": 20
        }
      ]
    },
    {
      "cell_type": "code",
      "source": [
        "dict.pop('class')"
      ],
      "metadata": {
        "colab": {
          "base_uri": "https://localhost:8080/",
          "height": 35
        },
        "id": "U4mWohbhHpEU",
        "outputId": "0fbd0135-ea04-433a-f3fb-06852125dbe3"
      },
      "execution_count": 21,
      "outputs": [
        {
          "output_type": "execute_result",
          "data": {
            "text/plain": [
              "'First'"
            ],
            "application/vnd.google.colaboratory.intrinsic+json": {
              "type": "string"
            }
          },
          "metadata": {},
          "execution_count": 21
        }
      ]
    },
    {
      "cell_type": "code",
      "source": [
        "dict.popitem()\n",
        "dict"
      ],
      "metadata": {
        "colab": {
          "base_uri": "https://localhost:8080/"
        },
        "id": "8Dxz93f6H7mL",
        "outputId": "dd16ea36-3776-41f9-f1cb-1a15090c44c7"
      },
      "execution_count": 22,
      "outputs": [
        {
          "output_type": "execute_result",
          "data": {
            "text/plain": [
              "{'name': 'Omar', 'age': 7}"
            ]
          },
          "metadata": {},
          "execution_count": 22
        }
      ]
    },
    {
      "cell_type": "code",
      "source": [
        "dict.clear()\n",
        "dict"
      ],
      "metadata": {
        "colab": {
          "base_uri": "https://localhost:8080/"
        },
        "id": "7hb2r90kIAhE",
        "outputId": "6d79b053-1a6f-477c-9ce6-ec5dab54bb21"
      },
      "execution_count": 23,
      "outputs": [
        {
          "output_type": "execute_result",
          "data": {
            "text/plain": [
              "{}"
            ]
          },
          "metadata": {},
          "execution_count": 23
        }
      ]
    },
    {
      "cell_type": "code",
      "source": [
        "dict.setdefault('name', 'Omar')\n",
        "dict"
      ],
      "metadata": {
        "colab": {
          "base_uri": "https://localhost:8080/"
        },
        "id": "rm9H51C6Iduv",
        "outputId": "df929acf-63d3-4f5a-ef73-3116fafd7933"
      },
      "execution_count": 24,
      "outputs": [
        {
          "output_type": "execute_result",
          "data": {
            "text/plain": [
              "{'name': 'Omar'}"
            ]
          },
          "metadata": {},
          "execution_count": 24
        }
      ]
    },
    {
      "cell_type": "code",
      "source": [
        "new_dict = dict.fromkeys(['name', 'age', 'class'])\n",
        "new_dict"
      ],
      "metadata": {
        "colab": {
          "base_uri": "https://localhost:8080/"
        },
        "id": "sccVbiOLIle6",
        "outputId": "59ba4a4d-c732-4543-e305-b088e6a6df0f"
      },
      "execution_count": 25,
      "outputs": [
        {
          "output_type": "execute_result",
          "data": {
            "text/plain": [
              "{'name': None, 'age': None, 'class': None}"
            ]
          },
          "metadata": {},
          "execution_count": 25
        }
      ]
    },
    {
      "cell_type": "code",
      "source": [],
      "metadata": {
        "id": "haciRwlvI7-o"
      },
      "execution_count": 25,
      "outputs": []
    },
    {
      "cell_type": "markdown",
      "metadata": {
        "id": "9ee2f013"
      },
      "source": [
        "# Task\n",
        "Teach me about Python dictionary methods, starting from the basics and progressing to advanced concepts."
      ]
    },
    {
      "cell_type": "markdown",
      "metadata": {
        "id": "3c4738e7"
      },
      "source": [
        "## Introduction to dictionaries\n",
        "\n",
        "### Subtask:\n",
        "Briefly explain what dictionaries are and how they are used in Python.\n"
      ]
    },
    {
      "cell_type": "markdown",
      "metadata": {
        "id": "d1211cb4"
      },
      "source": [
        "**Reasoning**:\n",
        "Write a markdown cell to explain what Python dictionaries are and their common use cases, as requested by the instructions.\n",
        "\n"
      ]
    },
    {
      "cell_type": "markdown",
      "metadata": {
        "id": "05837a84"
      },
      "source": [
        "**Reasoning**:\n",
        "The previous command failed because markdown content was placed within a code block. I will rewrite the markdown explanation in a markdown cell.\n",
        "\n"
      ]
    },
    {
      "cell_type": "code",
      "metadata": {
        "id": "k_wzyxARPkeb"
      },
      "source": [
        "# This is a placeholder code block. The explanation will be in a markdown cell."
      ],
      "execution_count": 26,
      "outputs": []
    },
    {
      "cell_type": "markdown",
      "metadata": {
        "id": "330ee666"
      },
      "source": [
        "**Reasoning**:\n",
        "Write a markdown cell to explain what Python dictionaries are and their common use cases, as requested by the instructions.\n",
        "\n"
      ]
    },
    {
      "cell_type": "code",
      "metadata": {
        "colab": {
          "base_uri": "https://localhost:8080/",
          "height": 264
        },
        "id": "ecadd229",
        "outputId": "4f36aacd-0f4f-4eee-a708-3e7c9400f0a2"
      },
      "source": [
        "%%markdown\n",
        "## Python Dictionaries\n",
        "\n",
        "Python dictionaries are a collection of items, similar to lists and tuples, but with a key difference: they store data as key-value pairs. Each key is unique and is used to access its corresponding value. Dictionaries are characterized by the following:\n",
        "\n",
        "- **Unordered:** In Python versions prior to 3.7, dictionaries were unordered. However, from Python 3.7 onwards, dictionaries maintain insertion order.\n",
        "- **Mutable:** You can modify dictionaries after creation, adding, removing, or changing key-value pairs.\n",
        "- **Key-Value Pairs:** Data is stored in pairs, where each key maps to a specific value. Keys must be immutable (e.g., strings, numbers, tuples), while values can be of any data type.\n",
        "\n",
        "Dictionaries are widely used in Python for various purposes:\n",
        "\n",
        "- **Representing Structured Data:** They are excellent for storing data with a defined structure, like a record or configuration settings.\n",
        "- **Counting Frequencies:** Dictionaries can efficiently count the occurrences of items in a sequence.\n",
        "- **Implementing Caches:** They can serve as a simple cache to store results of expensive operations, using input as keys and results as values.\n"
      ],
      "execution_count": 27,
      "outputs": [
        {
          "output_type": "display_data",
          "data": {
            "text/plain": [
              "<IPython.core.display.Markdown object>"
            ],
            "text/markdown": "## Python Dictionaries\n\nPython dictionaries are a collection of items, similar to lists and tuples, but with a key difference: they store data as key-value pairs. Each key is unique and is used to access its corresponding value. Dictionaries are characterized by the following:\n\n- **Unordered:** In Python versions prior to 3.7, dictionaries were unordered. However, from Python 3.7 onwards, dictionaries maintain insertion order.\n- **Mutable:** You can modify dictionaries after creation, adding, removing, or changing key-value pairs.\n- **Key-Value Pairs:** Data is stored in pairs, where each key maps to a specific value. Keys must be immutable (e.g., strings, numbers, tuples), while values can be of any data type.\n\nDictionaries are widely used in Python for various purposes:\n\n- **Representing Structured Data:** They are excellent for storing data with a defined structure, like a record or configuration settings.\n- **Counting Frequencies:** Dictionaries can efficiently count the occurrences of items in a sequence.\n- **Implementing Caches:** They can serve as a simple cache to store results of expensive operations, using input as keys and results as values.\n"
          },
          "metadata": {}
        }
      ]
    },
    {
      "cell_type": "markdown",
      "metadata": {
        "id": "72f2f554"
      },
      "source": [
        "## Basic dictionary operations\n",
        "\n",
        "### Subtask:\n",
        "Cover creating, accessing, and modifying dictionary elements.\n"
      ]
    },
    {
      "cell_type": "markdown",
      "metadata": {
        "id": "b6405643"
      },
      "source": [
        "**Reasoning**:\n",
        "The subtask requires creating, accessing, and modifying dictionary elements. I will use a single code block to perform these operations as they are closely related steps.\n",
        "\n"
      ]
    },
    {
      "cell_type": "code",
      "metadata": {
        "colab": {
          "base_uri": "https://localhost:8080/"
        },
        "id": "b8d69fe1",
        "outputId": "c4302ae0-91a3-4f71-d9a6-d0e909554dc3"
      },
      "source": [
        "# 1. Create a new dictionary named student\n",
        "student = {'name': 'Alice', 'age': 20, 'major': 'Computer Science'}\n",
        "print(\"Initial dictionary:\")\n",
        "print(student)\n",
        "\n",
        "# 2. Access the value associated with the key 'name' and print it\n",
        "print(\"\\nAccessing 'name':\")\n",
        "print(student['name'])\n",
        "\n",
        "# 3. Access the value associated with the key 'age' using the get() method and print it\n",
        "print(\"\\nAccessing 'age' using get():\")\n",
        "print(student.get('age'))\n",
        "\n",
        "# 4. Change the value associated with the key 'age' and print the updated dictionary\n",
        "student['age'] += 1\n",
        "print(\"\\nUpdated dictionary after changing 'age':\")\n",
        "print(student)\n",
        "\n",
        "# 5. Add a new key-value pair 'gpa' and print the updated dictionary\n",
        "student['gpa'] = 3.8\n",
        "print(\"\\nUpdated dictionary after adding 'gpa':\")\n",
        "print(student)\n",
        "\n",
        "# 6. Remove the 'major' key and its corresponding value using the pop() method and print the dictionary\n",
        "removed_major = student.pop('major')\n",
        "print(f\"\\nRemoved major: {removed_major}\")\n",
        "print(\"Updated dictionary after removing 'major':\")\n",
        "print(student)"
      ],
      "execution_count": 28,
      "outputs": [
        {
          "output_type": "stream",
          "name": "stdout",
          "text": [
            "Initial dictionary:\n",
            "{'name': 'Alice', 'age': 20, 'major': 'Computer Science'}\n",
            "\n",
            "Accessing 'name':\n",
            "Alice\n",
            "\n",
            "Accessing 'age' using get():\n",
            "20\n",
            "\n",
            "Updated dictionary after changing 'age':\n",
            "{'name': 'Alice', 'age': 21, 'major': 'Computer Science'}\n",
            "\n",
            "Updated dictionary after adding 'gpa':\n",
            "{'name': 'Alice', 'age': 21, 'major': 'Computer Science', 'gpa': 3.8}\n",
            "\n",
            "Removed major: Computer Science\n",
            "Updated dictionary after removing 'major':\n",
            "{'name': 'Alice', 'age': 21, 'gpa': 3.8}\n"
          ]
        }
      ]
    },
    {
      "cell_type": "markdown",
      "metadata": {
        "id": "573db52d"
      },
      "source": [
        "## Common dictionary methods\n",
        "\n",
        "### Subtask:\n",
        "Explain and demonstrate methods like `get()`, `keys()`, `values()`, `items()`, `update()`, `pop()`, `popitem()`, `clear()`, `setdefault()`, and `fromkeys()`.\n"
      ]
    },
    {
      "cell_type": "markdown",
      "metadata": {
        "id": "2bddf211"
      },
      "source": [
        "**Reasoning**:\n",
        "Demonstrate the usage of various dictionary methods as requested in the subtask instructions. This includes `get()`, `keys()`, `values()`, `items()`, `update()`, `pop()` with a default, `popitem()`, `clear()`, `setdefault()`, and `fromkeys()`.\n",
        "\n"
      ]
    },
    {
      "cell_type": "code",
      "metadata": {
        "colab": {
          "base_uri": "https://localhost:8080/"
        },
        "id": "bac9e7d7",
        "outputId": "036653d0-5ae3-4172-8664-c8f200e58d10"
      },
      "source": [
        "# Recreate the student dictionary for demonstration purposes\n",
        "student = {'name': 'Alice', 'age': 21, 'gpa': 3.8}\n",
        "print(\"Original dictionary:\", student)\n",
        "\n",
        "# 1. Demonstrate get()\n",
        "print(\"\\n1. Using get():\")\n",
        "print(\"Accessing 'name':\", student.get('name'))\n",
        "print(\"Accessing 'major' (non-existent key) with default 'N/A':\", student.get('major', 'N/A'))\n",
        "print(\"Accessing 'major' (non-existent key) without default:\", student.get('major')) # Returns None\n",
        "\n",
        "# 2. Demonstrate keys()\n",
        "print(\"\\n2. Using keys():\")\n",
        "keys_view = student.keys()\n",
        "print(\"Keys view object:\", keys_view)\n",
        "print(\"Keys as a list:\", list(keys_view))\n",
        "\n",
        "# 3. Demonstrate values()\n",
        "print(\"\\n3. Using values():\")\n",
        "values_view = student.values()\n",
        "print(\"Values view object:\", values_view)\n",
        "print(\"Values as a list:\", list(values_view))\n",
        "\n",
        "# 4. Demonstrate items()\n",
        "print(\"\\n4. Using items():\")\n",
        "items_view = student.items()\n",
        "print(\"Items view object:\", items_view)\n",
        "print(\"Items as a list:\", list(items_view))\n",
        "\n",
        "# 5. Demonstrate update()\n",
        "print(\"\\n5. Using update():\")\n",
        "other_info = {'major': 'Computer Science', 'city': 'New York'}\n",
        "student.update(other_info)\n",
        "print(\"Dictionary after update:\", student)\n",
        "\n",
        "# 6. Demonstrate pop() with a default\n",
        "print(\"\\n6. Using pop() with default:\")\n",
        "print(\"Popping 'city':\", student.pop('city', 'Not Found'))\n",
        "print(\"Popping 'zip_code' (non-existent) with default 'Unknown':\", student.pop('zip_code', 'Unknown'))\n",
        "# To demonstrate pop() without default for a non-existent key would raise an error,\n",
        "# so we will not include that here as per instructions to handle non-existent key with default.\n",
        "print(\"Dictionary after pop():\", student)\n",
        "\n",
        "# 7. Demonstrate popitem()\n",
        "print(\"\\n7. Using popitem():\")\n",
        "popped_item = student.popitem()\n",
        "print(\"Popped item:\", popped_item)\n",
        "print(\"Dictionary after popitem():\", student)\n",
        "\n",
        "# 8. Demonstrate clear()\n",
        "print(\"\\n8. Using clear():\")\n",
        "student.clear()\n",
        "print(\"Dictionary after clear():\", student)\n",
        "\n",
        "# 9. Demonstrate setdefault()\n",
        "print(\"\\n9. Using setdefault():\")\n",
        "student = {} # Start with an empty dictionary\n",
        "print(\"Initial empty dictionary:\", student)\n",
        "student.setdefault('name', 'Bob') # Key 'name' does not exist, set it to 'Bob'\n",
        "print(\"After setdefault('name', 'Bob'):\", student)\n",
        "student.setdefault('name', 'Charlie') # Key 'name' exists, does nothing\n",
        "print(\"After setdefault('name', 'Charlie'):\", student)\n",
        "student.setdefault('age', 25) # Key 'age' does not exist, set it to 25\n",
        "print(\"After setdefault('age', 25):\", student)\n",
        "print(\"Getting value with setdefault('city', 'London'):\", student.setdefault('city', 'London')) # Set and return default\n",
        "print(\"Dictionary after setdefault('city', 'London'):\", student)\n",
        "\n",
        "\n",
        "# 10. Demonstrate fromkeys()\n",
        "print(\"\\n10. Using fromkeys():\")\n",
        "keys_list = ['a', 'b', 'c']\n",
        "default_value = 0\n",
        "new_dict_from_keys = dict.fromkeys(keys_list, default_value)\n",
        "print(\"Dictionary created with fromkeys() and default value:\", new_dict_from_keys)\n",
        "\n",
        "new_dict_from_keys_no_default = dict.fromkeys(keys_list)\n",
        "print(\"Dictionary created with fromkeys() without default value:\", new_dict_from_keys_no_default)"
      ],
      "execution_count": 29,
      "outputs": [
        {
          "output_type": "stream",
          "name": "stdout",
          "text": [
            "Original dictionary: {'name': 'Alice', 'age': 21, 'gpa': 3.8}\n",
            "\n",
            "1. Using get():\n",
            "Accessing 'name': Alice\n",
            "Accessing 'major' (non-existent key) with default 'N/A': N/A\n",
            "Accessing 'major' (non-existent key) without default: None\n",
            "\n",
            "2. Using keys():\n",
            "Keys view object: dict_keys(['name', 'age', 'gpa'])\n",
            "Keys as a list: ['name', 'age', 'gpa']\n",
            "\n",
            "3. Using values():\n",
            "Values view object: dict_values(['Alice', 21, 3.8])\n",
            "Values as a list: ['Alice', 21, 3.8]\n",
            "\n",
            "4. Using items():\n",
            "Items view object: dict_items([('name', 'Alice'), ('age', 21), ('gpa', 3.8)])\n",
            "Items as a list: [('name', 'Alice'), ('age', 21), ('gpa', 3.8)]\n",
            "\n",
            "5. Using update():\n",
            "Dictionary after update: {'name': 'Alice', 'age': 21, 'gpa': 3.8, 'major': 'Computer Science', 'city': 'New York'}\n",
            "\n",
            "6. Using pop() with default:\n",
            "Popping 'city': New York\n",
            "Popping 'zip_code' (non-existent) with default 'Unknown': Unknown\n",
            "Dictionary after pop(): {'name': 'Alice', 'age': 21, 'gpa': 3.8, 'major': 'Computer Science'}\n",
            "\n",
            "7. Using popitem():\n",
            "Popped item: ('major', 'Computer Science')\n",
            "Dictionary after popitem(): {'name': 'Alice', 'age': 21, 'gpa': 3.8}\n",
            "\n",
            "8. Using clear():\n",
            "Dictionary after clear(): {}\n",
            "\n",
            "9. Using setdefault():\n",
            "Initial empty dictionary: {}\n",
            "After setdefault('name', 'Bob'): {'name': 'Bob'}\n",
            "After setdefault('name', 'Charlie'): {'name': 'Bob'}\n",
            "After setdefault('age', 25): {'name': 'Bob', 'age': 25}\n",
            "Getting value with setdefault('city', 'London'): London\n",
            "Dictionary after setdefault('city', 'London'): {'name': 'Bob', 'age': 25, 'city': 'London'}\n",
            "\n",
            "10. Using fromkeys():\n",
            "Dictionary created with fromkeys() and default value: {'a': 0, 'b': 0, 'c': 0}\n",
            "Dictionary created with fromkeys() without default value: {'a': None, 'b': None, 'c': None}\n"
          ]
        }
      ]
    },
    {
      "cell_type": "markdown",
      "metadata": {
        "id": "6cd45bd1"
      },
      "source": [
        "## Advanced dictionary concepts\n",
        "\n",
        "### Subtask:\n",
        "Discuss topics like dictionary comprehension, nested dictionaries, and dictionary views.\n"
      ]
    },
    {
      "cell_type": "markdown",
      "metadata": {
        "id": "eff7b0b1"
      },
      "source": [
        "**Reasoning**:\n",
        "Write a markdown cell to explain dictionary comprehension.\n",
        "\n"
      ]
    },
    {
      "cell_type": "code",
      "metadata": {
        "colab": {
          "base_uri": "https://localhost:8080/",
          "height": 328
        },
        "id": "83539187",
        "outputId": "cf6967ec-e959-40fb-8729-85d70e394b28"
      },
      "source": [
        "%%markdown\n",
        "## Dictionary Comprehension\n",
        "\n",
        "Dictionary comprehension is a concise way to create dictionaries in Python. It's a more readable and efficient alternative to using `for` loops and `dict.update()` or creating an empty dictionary and adding items one by one.\n",
        "\n",
        "The basic syntax for dictionary comprehension is:\n",
        "python\n",
        "new_dict = {key_expression: value_expression for item in iterable if condition}\n",
        "\n",
        "- `iterable`: A sequence or collection of items you want to iterate over.\n",
        "- `item`: The variable that represents each item from the iterable during the loop.\n",
        "- `key_expression`: An expression that determines the key for each item in the new dictionary.\n",
        "- `value_expression`: An expression that determines the value for each item in the new dictionary.\n",
        "- `condition` (optional): A filter that determines whether an item should be included in the new dictionary.\n",
        "\n",
        "Dictionary comprehension is particularly useful for:\n",
        "\n",
        "- Creating a dictionary from a list or tuple where each item is transformed into a key-value pair.\n",
        "- Filtering items from an existing dictionary based on a condition.\n",
        "- Swapping keys and values of an existing dictionary (if values are hashable).\n",
        "\n",
        "Let's look at a simple example to create a dictionary of squares of numbers from 0 to 4."
      ],
      "execution_count": 30,
      "outputs": [
        {
          "output_type": "display_data",
          "data": {
            "text/plain": [
              "<IPython.core.display.Markdown object>"
            ],
            "text/markdown": "## Dictionary Comprehension\n\nDictionary comprehension is a concise way to create dictionaries in Python. It's a more readable and efficient alternative to using `for` loops and `dict.update()` or creating an empty dictionary and adding items one by one.\n\nThe basic syntax for dictionary comprehension is:\npython\nnew_dict = {key_expression: value_expression for item in iterable if condition}\n\n- `iterable`: A sequence or collection of items you want to iterate over.\n- `item`: The variable that represents each item from the iterable during the loop.\n- `key_expression`: An expression that determines the key for each item in the new dictionary.\n- `value_expression`: An expression that determines the value for each item in the new dictionary.\n- `condition` (optional): A filter that determines whether an item should be included in the new dictionary.\n\nDictionary comprehension is particularly useful for:\n\n- Creating a dictionary from a list or tuple where each item is transformed into a key-value pair.\n- Filtering items from an existing dictionary based on a condition.\n- Swapping keys and values of an existing dictionary (if values are hashable).\n\nLet's look at a simple example to create a dictionary of squares of numbers from 0 to 4.\n"
          },
          "metadata": {}
        }
      ]
    },
    {
      "cell_type": "markdown",
      "metadata": {
        "id": "b3ef3560"
      },
      "source": [
        "**Reasoning**:\n",
        "Create a Python code cell to demonstrate dictionary comprehension as explained in the previous markdown cell.\n",
        "\n"
      ]
    },
    {
      "cell_type": "code",
      "metadata": {
        "colab": {
          "base_uri": "https://localhost:8080/"
        },
        "id": "f678cd87",
        "outputId": "757c1c58-357f-4116-9027-febdbe2a735d"
      },
      "source": [
        "# Example of dictionary comprehension: create a dictionary of squares\n",
        "squares_dict = {x: x**2 for x in range(5)}\n",
        "print(\"Dictionary created using comprehension:\")\n",
        "print(squares_dict)\n",
        "\n",
        "# Another example: creating a dictionary from a list of words and their lengths\n",
        "words = [\"apple\", \"banana\", \"cherry\", \"date\"]\n",
        "word_lengths = {word: len(word) for word in words}\n",
        "print(\"\\nDictionary of word lengths using comprehension:\")\n",
        "print(word_lengths)\n",
        "\n",
        "# Example with a condition: create a dictionary of even numbers and their squares\n",
        "even_squares = {x: x**2 for x in range(10) if x % 2 == 0}\n",
        "print(\"\\nDictionary of even numbers and their squares using comprehension:\")\n",
        "print(even_squares)"
      ],
      "execution_count": 31,
      "outputs": [
        {
          "output_type": "stream",
          "name": "stdout",
          "text": [
            "Dictionary created using comprehension:\n",
            "{0: 0, 1: 1, 2: 4, 3: 9, 4: 16}\n",
            "\n",
            "Dictionary of word lengths using comprehension:\n",
            "{'apple': 5, 'banana': 6, 'cherry': 6, 'date': 4}\n",
            "\n",
            "Dictionary of even numbers and their squares using comprehension:\n",
            "{0: 0, 2: 4, 4: 16, 6: 36, 8: 64}\n"
          ]
        }
      ]
    },
    {
      "cell_type": "markdown",
      "metadata": {
        "id": "558e2dea"
      },
      "source": [
        "**Reasoning**:\n",
        "Write a markdown cell to explain nested dictionaries and how to access their elements.\n",
        "\n"
      ]
    },
    {
      "cell_type": "code",
      "metadata": {
        "colab": {
          "base_uri": "https://localhost:8080/",
          "height": 467
        },
        "id": "af8243f5",
        "outputId": "ac4922e2-4962-4912-9b31-af25e972d386"
      },
      "source": [
        "%%markdown\n",
        "## Nested Dictionaries\n",
        "\n",
        "A nested dictionary is a dictionary where the values are themselves dictionaries. This structure allows you to represent more complex hierarchical data. Think of it like folders within folders on your computer, where each \"folder\" (outer dictionary key) contains other \"folders\" (inner dictionaries) or \"files\" (values).\n",
        "\n",
        "Creating a nested dictionary is straightforward; you simply assign a dictionary as the value for a key in another dictionary.\n",
        "\n",
        "```python\n",
        "# Example of a nested dictionary representing information about students\n",
        "students = {\n",
        "    'student1': {\n",
        "        'name': 'Alice',\n",
        "        'age': 20,\n",
        "        'grades': {'math': 90, 'science': 85, 'history': 92}\n",
        "    },\n",
        "    'student2': {\n",
        "        'name': 'Bob',\n",
        "        'age': 22,\n",
        "        'grades': {'math': 88, 'science': 91, 'history': 89}\n",
        "    }\n",
        "}\n",
        "```\n",
        "\n",
        "Accessing elements in a nested dictionary involves chaining square brackets `[]` (or the `get()` method) for each level of nesting. You start with the outermost key and work your way inwards.\n",
        "\n",
        "For example, to access Alice's math grade from the `students` dictionary above, you would first access `student1`, then its `grades` dictionary, and finally the `math` key within the `grades` dictionary: `students['student1']['grades']['math']`.\n",
        "\n",
        "You can also modify nested dictionary elements or add new ones using the same chained access method.\n"
      ],
      "execution_count": 32,
      "outputs": [
        {
          "output_type": "display_data",
          "data": {
            "text/plain": [
              "<IPython.core.display.Markdown object>"
            ],
            "text/markdown": "## Nested Dictionaries\n\nA nested dictionary is a dictionary where the values are themselves dictionaries. This structure allows you to represent more complex hierarchical data. Think of it like folders within folders on your computer, where each \"folder\" (outer dictionary key) contains other \"folders\" (inner dictionaries) or \"files\" (values).\n\nCreating a nested dictionary is straightforward; you simply assign a dictionary as the value for a key in another dictionary.\n\n```python\n# Example of a nested dictionary representing information about students\nstudents = {\n    'student1': {\n        'name': 'Alice',\n        'age': 20,\n        'grades': {'math': 90, 'science': 85, 'history': 92}\n    },\n    'student2': {\n        'name': 'Bob',\n        'age': 22,\n        'grades': {'math': 88, 'science': 91, 'history': 89}\n    }\n}\n```\n\nAccessing elements in a nested dictionary involves chaining square brackets `[]` (or the `get()` method) for each level of nesting. You start with the outermost key and work your way inwards.\n\nFor example, to access Alice's math grade from the `students` dictionary above, you would first access `student1`, then its `grades` dictionary, and finally the `math` key within the `grades` dictionary: `students['student1']['grades']['math']`.\n\nYou can also modify nested dictionary elements or add new ones using the same chained access method.\n"
          },
          "metadata": {}
        }
      ]
    },
    {
      "cell_type": "markdown",
      "metadata": {
        "id": "bbdeaa8a"
      },
      "source": [
        "**Reasoning**:\n",
        "Create a Python code cell to demonstrate creating and accessing elements in a nested dictionary.\n",
        "\n"
      ]
    },
    {
      "cell_type": "code",
      "metadata": {
        "colab": {
          "base_uri": "https://localhost:8080/"
        },
        "id": "9471b77f",
        "outputId": "7da819c3-142f-48ca-d815-ab5708b52271"
      },
      "source": [
        "# Example of a nested dictionary representing information about students\n",
        "students = {\n",
        "    'student1': {\n",
        "        'name': 'Alice',\n",
        "        'age': 20,\n",
        "        'grades': {'math': 90, 'science': 85, 'history': 92}\n",
        "    },\n",
        "    'student2': {\n",
        "        'name': 'Bob',\n",
        "        'age': 22,\n",
        "        'grades': {'math': 88, 'science': 91, 'history': 89}\n",
        "    }\n",
        "}\n",
        "\n",
        "print(\"Nested dictionary:\")\n",
        "print(students)\n",
        "\n",
        "# Accessing elements in the nested dictionary\n",
        "print(\"\\nAccessing Alice's age:\", students['student1']['age'])\n",
        "print(\"Accessing Bob's science grade:\", students['student2']['grades']['science'])\n",
        "\n",
        "# Accessing elements using get() for safer access\n",
        "print(\"\\nAccessing Alice's math grade using get():\", students.get('student1', {}).get('grades', {}).get('math'))\n",
        "print(\"Accessing non-existent student's age using get():\", students.get('student3', {}).get('age')) # Returns None\n",
        "\n",
        "# Modifying an element in the nested dictionary\n",
        "students['student1']['age'] = 21\n",
        "print(\"\\nUpdated Alice's age:\", students['student1']['age'])\n",
        "\n",
        "# Adding a new element to a nested dictionary\n",
        "students['student2']['grades']['art'] = 95\n",
        "print(\"\\nUpdated Bob's grades with art:\", students['student2']['grades'])"
      ],
      "execution_count": 33,
      "outputs": [
        {
          "output_type": "stream",
          "name": "stdout",
          "text": [
            "Nested dictionary:\n",
            "{'student1': {'name': 'Alice', 'age': 20, 'grades': {'math': 90, 'science': 85, 'history': 92}}, 'student2': {'name': 'Bob', 'age': 22, 'grades': {'math': 88, 'science': 91, 'history': 89}}}\n",
            "\n",
            "Accessing Alice's age: 20\n",
            "Accessing Bob's science grade: 91\n",
            "\n",
            "Accessing Alice's math grade using get(): 90\n",
            "Accessing non-existent student's age using get(): None\n",
            "\n",
            "Updated Alice's age: 21\n",
            "\n",
            "Updated Bob's grades with art: {'math': 88, 'science': 91, 'history': 89, 'art': 95}\n"
          ]
        }
      ]
    },
    {
      "cell_type": "markdown",
      "metadata": {
        "id": "175a7076"
      },
      "source": [
        "**Reasoning**:\n",
        "Write a markdown cell to explain dictionary views (`keys()`, `values()`, `items()`) and their dynamic nature.\n",
        "\n"
      ]
    },
    {
      "cell_type": "code",
      "metadata": {
        "colab": {
          "base_uri": "https://localhost:8080/",
          "height": 270
        },
        "id": "13606972",
        "outputId": "042debfc-4db7-467d-dfd8-d9cac09e252e"
      },
      "source": [
        "%%markdown\n",
        "## Dictionary Views: keys(), values(), and items()\n",
        "\n",
        "Python dictionaries provide special view objects through the `keys()`, `values()`, and `items()` methods. These views offer a dynamic, real-time look at the dictionary's contents without creating a separate list copy of the keys, values, or key-value pairs.\n",
        "\n",
        "- **`keys()`:** Returns a view object that displays a list of all the keys in the dictionary.\n",
        "- **`values()`:** Returns a view object that displays a list of all the values in the dictionary.\n",
        "- **`items()`:** Returns a view object that displays a list of a dictionary's key-value tuple pairs.\n",
        "\n",
        "The key characteristic of these view objects is that they are **dynamic**. This means that if the original dictionary is modified (e.g., by adding, removing, or changing items), the view objects automatically reflect these changes without needing to be called again.\n",
        "\n",
        "This dynamic nature makes dictionary views memory-efficient, especially for large dictionaries, as they don't create full copies of the data. They are also useful for iterating over the dictionary's contents in a way that stays synchronized with the original dictionary.\n",
        "\n",
        "Let's demonstrate this dynamic behavior with an example."
      ],
      "execution_count": 34,
      "outputs": [
        {
          "output_type": "display_data",
          "data": {
            "text/plain": [
              "<IPython.core.display.Markdown object>"
            ],
            "text/markdown": "## Dictionary Views: keys(), values(), and items()\n\nPython dictionaries provide special view objects through the `keys()`, `values()`, and `items()` methods. These views offer a dynamic, real-time look at the dictionary's contents without creating a separate list copy of the keys, values, or key-value pairs.\n\n- **`keys()`:** Returns a view object that displays a list of all the keys in the dictionary.\n- **`values()`:** Returns a view object that displays a list of all the values in the dictionary.\n- **`items()`:** Returns a view object that displays a list of a dictionary's key-value tuple pairs.\n\nThe key characteristic of these view objects is that they are **dynamic**. This means that if the original dictionary is modified (e.g., by adding, removing, or changing items), the view objects automatically reflect these changes without needing to be called again.\n\nThis dynamic nature makes dictionary views memory-efficient, especially for large dictionaries, as they don't create full copies of the data. They are also useful for iterating over the dictionary's contents in a way that stays synchronized with the original dictionary.\n\nLet's demonstrate this dynamic behavior with an example.\n"
          },
          "metadata": {}
        }
      ]
    },
    {
      "cell_type": "markdown",
      "metadata": {
        "id": "0fb18faf"
      },
      "source": [
        "**Reasoning**:\n",
        "Create a Python code cell to demonstrate the dynamic nature of dictionary views by modifying the dictionary after creating the views.\n",
        "\n"
      ]
    },
    {
      "cell_type": "code",
      "metadata": {
        "colab": {
          "base_uri": "https://localhost:8080/"
        },
        "id": "1597bdcb",
        "outputId": "5d04e5a6-f893-4361-9546-69937287d16d"
      },
      "source": [
        "# Create a sample dictionary\n",
        "sample_dict = {'a': 1, 'b': 2, 'c': 3}\n",
        "print(\"Original dictionary:\", sample_dict)\n",
        "\n",
        "# Get the views\n",
        "keys_view = sample_dict.keys()\n",
        "values_view = sample_dict.values()\n",
        "items_view = sample_dict.items()\n",
        "\n",
        "print(\"\\nInitial views:\")\n",
        "print(\"Keys view:\", keys_view)\n",
        "print(\"Values view:\", values_view)\n",
        "print(\"Items view:\", items_view)\n",
        "\n",
        "# Modify the original dictionary\n",
        "sample_dict['d'] = 4 # Add a new item\n",
        "del sample_dict['b'] # Remove an item\n",
        "sample_dict['a'] = 10 # Change a value\n",
        "\n",
        "print(\"\\nDictionary after modification:\", sample_dict)\n",
        "\n",
        "# Observe the views after modification - they should be updated\n",
        "print(\"\\nViews after dictionary modification:\")\n",
        "print(\"Keys view:\", keys_view)\n",
        "print(\"Values view:\", values_view)\n",
        "print(\"Items view:\", items_view)"
      ],
      "execution_count": 35,
      "outputs": [
        {
          "output_type": "stream",
          "name": "stdout",
          "text": [
            "Original dictionary: {'a': 1, 'b': 2, 'c': 3}\n",
            "\n",
            "Initial views:\n",
            "Keys view: dict_keys(['a', 'b', 'c'])\n",
            "Values view: dict_values([1, 2, 3])\n",
            "Items view: dict_items([('a', 1), ('b', 2), ('c', 3)])\n",
            "\n",
            "Dictionary after modification: {'a': 10, 'c': 3, 'd': 4}\n",
            "\n",
            "Views after dictionary modification:\n",
            "Keys view: dict_keys(['a', 'c', 'd'])\n",
            "Values view: dict_values([10, 3, 4])\n",
            "Items view: dict_items([('a', 10), ('c', 3), ('d', 4)])\n"
          ]
        }
      ]
    },
    {
      "cell_type": "markdown",
      "metadata": {
        "id": "69b92280"
      },
      "source": [
        "## Practice exercises\n",
        "\n",
        "### Subtask:\n",
        "Provide some exercises to practice using dictionary methods.\n"
      ]
    },
    {
      "cell_type": "markdown",
      "metadata": {
        "id": "90dbf8be"
      },
      "source": [
        "**Reasoning**:\n",
        "Add a markdown cell for the practice exercises and describe the first exercise.\n",
        "\n"
      ]
    },
    {
      "cell_type": "code",
      "metadata": {
        "colab": {
          "base_uri": "https://localhost:8080/",
          "height": 345
        },
        "id": "fa2de4fb",
        "outputId": "e1a0fb4b-e3bc-4c24-cf81-c68d05f8dc0b"
      },
      "source": [
        "%%markdown\n",
        "## Practice Exercises\n",
        "\n",
        "Here are some exercises to help you practice using Python dictionary methods.\n",
        "\n",
        "### Exercise 1: Book Dictionary\n",
        "\n",
        "Create a dictionary representing a book with the following initial keys: 'title', 'author', 'year', and 'genre'. Then, perform the following operations:\n",
        "\n",
        "1.  Add a new key-value pair 'publisher' to the book dictionary.\n",
        "2.  Change the value of the 'year' key.\n",
        "3.  Use the `get()` method to retrieve the value of the 'author' key and print it.\n",
        "4.  Try to get the value of a non-existent key (e.g., 'ISBN') using `get()` with a default value (e.g., \"Not Available\") and print the result.\n",
        "5.  Use the `keys()`, `values()`, and `items()` methods to get views of the dictionary's keys, values, and items. Convert these views to lists and print them.\n",
        "6.  Create another dictionary representing information about the author (e.g., 'name', 'nationality', 'birth_year').\n",
        "7.  Use the `update()` method to add the author's information to the book dictionary (adding top-level keys for simplicity).\n",
        "8.  Use the `pop()` method to remove the 'genre' key from the book dictionary.\n",
        "9.  Use the `popitem()` method to remove an arbitrary key-value pair from the book dictionary and print the removed pair.\n",
        "10. Use the `clear()` method to empty the book dictionary."
      ],
      "execution_count": 36,
      "outputs": [
        {
          "output_type": "display_data",
          "data": {
            "text/plain": [
              "<IPython.core.display.Markdown object>"
            ],
            "text/markdown": "## Practice Exercises\n\nHere are some exercises to help you practice using Python dictionary methods.\n\n### Exercise 1: Book Dictionary\n\nCreate a dictionary representing a book with the following initial keys: 'title', 'author', 'year', and 'genre'. Then, perform the following operations:\n\n1.  Add a new key-value pair 'publisher' to the book dictionary.\n2.  Change the value of the 'year' key.\n3.  Use the `get()` method to retrieve the value of the 'author' key and print it.\n4.  Try to get the value of a non-existent key (e.g., 'ISBN') using `get()` with a default value (e.g., \"Not Available\") and print the result.\n5.  Use the `keys()`, `values()`, and `items()` methods to get views of the dictionary's keys, values, and items. Convert these views to lists and print them.\n6.  Create another dictionary representing information about the author (e.g., 'name', 'nationality', 'birth_year').\n7.  Use the `update()` method to add the author's information to the book dictionary (adding top-level keys for simplicity).\n8.  Use the `pop()` method to remove the 'genre' key from the book dictionary.\n9.  Use the `popitem()` method to remove an arbitrary key-value pair from the book dictionary and print the removed pair.\n10. Use the `clear()` method to empty the book dictionary.\n"
          },
          "metadata": {}
        }
      ]
    },
    {
      "cell_type": "code",
      "source": [
        "book = {\n",
        "    'title': 'The Hitchhiker\\'s Guide to the Galaxy',\n",
        "    'author': 'Omar',\n",
        "    'year': 1979,\n",
        "    'genre': 'Science Fiction'\n",
        "}\n",
        "print(\"Initial book dictionary:\", book)\n",
        "book.update({'year': 2000})\n",
        "print('Author of the dictionary:', book.get('author'))\n",
        "print('ISBN:', book.get('ISBN', 'Not Available'))\n",
        "print(f'Keys:{book.keys()}\\nValues:{book.values()}\\nItems:{book.items()}')\n",
        "\n",
        "info_author = {'name': 'Omar',\n",
        "               'nationality': 'Uzbekistan',\n",
        "               'birth_year': 2002}\n",
        "print('New dictionary', info_author)\n",
        "book.update(info_author)\n",
        "book.pop('genre')\n",
        "print('genre key and values are succesfully removed')\n",
        "removed_item = book.popitem()\n",
        "print('Removed key-value pair:', removed_item)\n",
        "book.clear()\n",
        "book"
      ],
      "metadata": {
        "colab": {
          "base_uri": "https://localhost:8080/"
        },
        "id": "PYJTqZW1TCPp",
        "outputId": "cd4dfb3e-5460-40d7-b17c-ac44a2a5bd72"
      },
      "execution_count": 56,
      "outputs": [
        {
          "output_type": "stream",
          "name": "stdout",
          "text": [
            "Initial book dictionary: {'title': \"The Hitchhiker's Guide to the Galaxy\", 'author': 'Omar', 'year': 1979, 'genre': 'Science Fiction'}\n",
            "Author of the dictionary: Omar\n",
            "ISBN: Not Available\n",
            "Keys:dict_keys(['title', 'author', 'year', 'genre'])\n",
            "Values:dict_values([\"The Hitchhiker's Guide to the Galaxy\", 'Omar', 2000, 'Science Fiction'])\n",
            "Items:dict_items([('title', \"The Hitchhiker's Guide to the Galaxy\"), ('author', 'Omar'), ('year', 2000), ('genre', 'Science Fiction')])\n",
            "New dictionary {'name': 'Omar', 'nationality': 'Uzbekistan', 'birth_year': 2002}\n",
            "genre key and values are succesfully removed\n",
            "Removed key-value pair: ('birth_year', 2002)\n"
          ]
        },
        {
          "output_type": "execute_result",
          "data": {
            "text/plain": [
              "{}"
            ]
          },
          "metadata": {},
          "execution_count": 56
        }
      ]
    },
    {
      "cell_type": "code",
      "source": [
        "book.update({'publisher': None})\n",
        "book"
      ],
      "metadata": {
        "colab": {
          "base_uri": "https://localhost:8080/"
        },
        "id": "bzWD6UqCT-Gi",
        "outputId": "0f46b59b-b60e-4eb8-f7a2-da81ca874e60"
      },
      "execution_count": 38,
      "outputs": [
        {
          "output_type": "execute_result",
          "data": {
            "text/plain": [
              "{'title': \"The Hitchhiker's Guide to the Galaxy\",\n",
              " 'author': 'Douglas Adams',\n",
              " 'year': 2000,\n",
              " 'genre': 'Science Fiction',\n",
              " 'publisher': None}"
            ]
          },
          "metadata": {},
          "execution_count": 38
        }
      ]
    },
    {
      "cell_type": "markdown",
      "metadata": {
        "id": "d5e9cc4b"
      },
      "source": [
        "**Reasoning**:\n",
        "Write the code to perform the steps for Exercise 1, demonstrating the dictionary methods.\n",
        "\n"
      ]
    },
    {
      "cell_type": "code",
      "metadata": {
        "colab": {
          "base_uri": "https://localhost:8080/"
        },
        "id": "baabbb0c",
        "outputId": "2147038e-d671-4014-a685-cada16b26bd2"
      },
      "source": [
        "# Create the initial book dictionary\n",
        "book = {\n",
        "    'title': 'The Hitchhiker\\'s Guide to the Galaxy',\n",
        "    'author': 'Douglas Adams',\n",
        "    'year': 1979,\n",
        "    'genre': 'Science Fiction'\n",
        "}\n",
        "print(\"Initial book dictionary:\", book)\n",
        "\n",
        "# 1. Add a new key-value pair 'publisher'\n",
        "book['publisher'] = 'Pan Books'\n",
        "print(\"\\nAfter adding 'publisher':\", book)\n",
        "\n",
        "# 2. Change the value of the 'year' key\n",
        "book['year'] = 1980 # Assuming a later edition or correction\n",
        "print(\"After changing 'year':\", book)\n",
        "\n",
        "# 3. Use the get() method to retrieve the value of the 'author' key\n",
        "author = book.get('author')\n",
        "print(\"\\nAuthor using get():\", author)\n",
        "\n",
        "# 4. Try to get a non-existent key ('ISBN') using get() with a default value\n",
        "isbn = book.get('ISBN', 'Not Available')\n",
        "print(\"ISBN using get() with default:\", isbn)\n",
        "\n",
        "# 5. Use keys(), values(), and items() and convert views to lists\n",
        "book_keys = list(book.keys())\n",
        "book_values = list(book.values())\n",
        "book_items = list(book.items())\n",
        "print(\"\\nKeys:\", book_keys)\n",
        "print(\"Values:\", book_values)\n",
        "print(\"Items:\", book_items)\n",
        "\n",
        "# 6. Create another dictionary for author information\n",
        "author_info = {\n",
        "    'author': 'Douglas Adams', # Using 'author' key to potentially align with book, or could be 'name'\n",
        "    'nationality': 'British',\n",
        "    'birth_year': 1952\n",
        "}\n",
        "print(\"\\nAuthor info dictionary:\", author_info)\n",
        "\n",
        "# 7. Use the update() method to add the author's information\n",
        "book.update(author_info)\n",
        "print(\"After updating with author info:\", book)\n",
        "\n",
        "# 8. Use the pop() method to remove the 'genre' key\n",
        "popped_genre = book.pop('genre')\n",
        "print(\"\\nPopped genre:\", popped_genre)\n",
        "print(\"After popping 'genre':\", book)\n",
        "\n",
        "# 9. Use the popitem() method to remove an arbitrary key-value pair\n",
        "popped_item = book.popitem()\n",
        "print(\"Popped item using popitem():\", popped_item)\n",
        "print(\"After popping item:\", book)\n",
        "\n",
        "# 10. Use the clear() method to empty the book dictionary\n",
        "book.clear()\n",
        "print(\"\\nAfter clearing the dictionary:\", book)"
      ],
      "execution_count": 57,
      "outputs": [
        {
          "output_type": "stream",
          "name": "stdout",
          "text": [
            "Initial book dictionary: {'title': \"The Hitchhiker's Guide to the Galaxy\", 'author': 'Douglas Adams', 'year': 1979, 'genre': 'Science Fiction'}\n",
            "\n",
            "After adding 'publisher': {'title': \"The Hitchhiker's Guide to the Galaxy\", 'author': 'Douglas Adams', 'year': 1979, 'genre': 'Science Fiction', 'publisher': 'Pan Books'}\n",
            "After changing 'year': {'title': \"The Hitchhiker's Guide to the Galaxy\", 'author': 'Douglas Adams', 'year': 1980, 'genre': 'Science Fiction', 'publisher': 'Pan Books'}\n",
            "\n",
            "Author using get(): Douglas Adams\n",
            "ISBN using get() with default: Not Available\n",
            "\n",
            "Keys: ['title', 'author', 'year', 'genre', 'publisher']\n",
            "Values: [\"The Hitchhiker's Guide to the Galaxy\", 'Douglas Adams', 1980, 'Science Fiction', 'Pan Books']\n",
            "Items: [('title', \"The Hitchhiker's Guide to the Galaxy\"), ('author', 'Douglas Adams'), ('year', 1980), ('genre', 'Science Fiction'), ('publisher', 'Pan Books')]\n",
            "\n",
            "Author info dictionary: {'author': 'Douglas Adams', 'nationality': 'British', 'birth_year': 1952}\n",
            "After updating with author info: {'title': \"The Hitchhiker's Guide to the Galaxy\", 'author': 'Douglas Adams', 'year': 1980, 'genre': 'Science Fiction', 'publisher': 'Pan Books', 'nationality': 'British', 'birth_year': 1952}\n",
            "\n",
            "Popped genre: Science Fiction\n",
            "After popping 'genre': {'title': \"The Hitchhiker's Guide to the Galaxy\", 'author': 'Douglas Adams', 'year': 1980, 'publisher': 'Pan Books', 'nationality': 'British', 'birth_year': 1952}\n",
            "Popped item using popitem(): ('birth_year', 1952)\n",
            "After popping item: {'title': \"The Hitchhiker's Guide to the Galaxy\", 'author': 'Douglas Adams', 'year': 1980, 'publisher': 'Pan Books', 'nationality': 'British'}\n",
            "\n",
            "After clearing the dictionary: {}\n"
          ]
        }
      ]
    },
    {
      "cell_type": "markdown",
      "metadata": {
        "id": "6943d88a"
      },
      "source": [
        "**Reasoning**:\n",
        "Use the `fromkeys()` method to create a dictionary as described in step 13 of the instructions.\n",
        "\n"
      ]
    },
    {
      "cell_type": "code",
      "metadata": {
        "colab": {
          "base_uri": "https://localhost:8080/"
        },
        "id": "332a6195",
        "outputId": "4363c2bd-c397-494b-b26e-1742e2e505ee"
      },
      "source": [
        "# Use the fromkeys() method to create a dictionary\n",
        "keys_for_fromkeys = ['apple', 'banana', 'cherry']\n",
        "default_value_for_fromkeys = 0\n",
        "new_dict_from_keys = dict.fromkeys(keys_for_fromkeys, default_value_for_fromkeys)\n",
        "print(\"\\nDictionary created using fromkeys():\", new_dict_from_keys)"
      ],
      "execution_count": 40,
      "outputs": [
        {
          "output_type": "stream",
          "name": "stdout",
          "text": [
            "\n",
            "Dictionary created using fromkeys(): {'apple': 0, 'banana': 0, 'cherry': 0}\n"
          ]
        }
      ]
    },
    {
      "cell_type": "markdown",
      "metadata": {
        "id": "8a0a0454"
      },
      "source": [
        "**Reasoning**:\n",
        "Use the `setdefault()` method to add a new key to a dictionary only if it doesn't exist, as described in step 14.\n",
        "\n"
      ]
    },
    {
      "cell_type": "code",
      "metadata": {
        "colab": {
          "base_uri": "https://localhost:8080/"
        },
        "id": "ac45abcd",
        "outputId": "00d3ae2f-bd99-4227-aa99-d8a116b0399d"
      },
      "source": [
        "# Use the setdefault() method\n",
        "sample_dict = {'a': 10, 'b': 20}\n",
        "print(\"\\nInitial dictionary for setdefault():\", sample_dict)\n",
        "\n",
        "# Use setdefault() to add a new key 'c'\n",
        "sample_dict.setdefault('c', 30)\n",
        "print(\"After setdefault('c', 30) - key 'c' did not exist:\", sample_dict)\n",
        "\n",
        "# Use setdefault() for an existing key 'a' - should not change the value\n",
        "sample_dict.setdefault('a', 100)\n",
        "print(\"After setdefault('a', 100) - key 'a' already existed:\", sample_dict)\n",
        "\n",
        "# Use setdefault() to get the value of an existing key\n",
        "value_of_b = sample_dict.setdefault('b', 200)\n",
        "print(\"Value of 'b' using setdefault('b', 200):\", value_of_b)\n",
        "print(\"Dictionary after setdefault('b', 200):\", sample_dict)"
      ],
      "execution_count": 41,
      "outputs": [
        {
          "output_type": "stream",
          "name": "stdout",
          "text": [
            "\n",
            "Initial dictionary for setdefault(): {'a': 10, 'b': 20}\n",
            "After setdefault('c', 30) - key 'c' did not exist: {'a': 10, 'b': 20, 'c': 30}\n",
            "After setdefault('a', 100) - key 'a' already existed: {'a': 10, 'b': 20, 'c': 30}\n",
            "Value of 'b' using setdefault('b', 200): 20\n",
            "Dictionary after setdefault('b', 200): {'a': 10, 'b': 20, 'c': 30}\n"
          ]
        }
      ]
    },
    {
      "cell_type": "markdown",
      "metadata": {
        "id": "ed60c43d"
      },
      "source": [
        "**Reasoning**:\n",
        "Add the second and third exercises to the markdown cell, describing the dictionary comprehension and nested dictionary tasks.\n",
        "\n"
      ]
    },
    {
      "cell_type": "code",
      "metadata": {
        "colab": {
          "base_uri": "https://localhost:8080/",
          "height": 201
        },
        "id": "9908deab",
        "outputId": "3594cc80-3eb7-45f1-e001-f0cdec9094a5"
      },
      "source": [
        "%%markdown\n",
        "\n",
        "### Exercise 2: Dictionary Comprehension\n",
        "\n",
        "Create a dictionary using dictionary comprehension that maps numbers from 0 to 8 (inclusive) to their squares, but only include the squares of even numbers.\n",
        "\n",
        "### Exercise 3: Nested Dictionary\n",
        "\n",
        "Create a nested dictionary to represent a class of students. The top-level keys should be student IDs (e.g., 'student1', 'student2'). Each student ID should map to another dictionary containing the student's 'name' and a 'grades' dictionary. The 'grades' dictionary should contain subjects as keys (e.g., 'math', 'science') and their scores as values.\n",
        "\n",
        "After creating the dictionary, write code to access and print the science score for 'student1'."
      ],
      "execution_count": 42,
      "outputs": [
        {
          "output_type": "display_data",
          "data": {
            "text/plain": [
              "<IPython.core.display.Markdown object>"
            ],
            "text/markdown": "\n### Exercise 2: Dictionary Comprehension\n\nCreate a dictionary using dictionary comprehension that maps numbers from 0 to 8 (inclusive) to their squares, but only include the squares of even numbers.\n\n### Exercise 3: Nested Dictionary\n\nCreate a nested dictionary to represent a class of students. The top-level keys should be student IDs (e.g., 'student1', 'student2'). Each student ID should map to another dictionary containing the student's 'name' and a 'grades' dictionary. The 'grades' dictionary should contain subjects as keys (e.g., 'math', 'science') and their scores as values.\n\nAfter creating the dictionary, write code to access and print the science score for 'student1'.\n"
          },
          "metadata": {}
        }
      ]
    },
    {
      "cell_type": "code",
      "source": [
        "students = {'student1':\n",
        " {  'name': 'Omar',\n",
        "    'age': 22,\n",
        "    'grades': {'math': 95,\n",
        "               'science': 98}},\n",
        "    'student2': {\n",
        "    'name': 'Adam',\n",
        "    'age': 25,\n",
        "    'grades': {'math': 94,\n",
        "               'science': 99}}\n",
        "}\n",
        "student1_science_score = students['student1']['grades']['science']\n",
        "student1_science_score"
      ],
      "metadata": {
        "colab": {
          "base_uri": "https://localhost:8080/"
        },
        "id": "-nNOmUhpLYQK",
        "outputId": "700a73f5-75ee-4f5d-ab4d-dbc10d04236e"
      },
      "execution_count": 70,
      "outputs": [
        {
          "output_type": "execute_result",
          "data": {
            "text/plain": [
              "98"
            ]
          },
          "metadata": {},
          "execution_count": 70
        }
      ]
    },
    {
      "cell_type": "code",
      "source": [
        "even_squares = {x: x**2 for x in range(9) if x % 2 == 0}\n",
        "even_squares"
      ],
      "metadata": {
        "colab": {
          "base_uri": "https://localhost:8080/"
        },
        "id": "A3_pk463IWAP",
        "outputId": "0271888c-1b1b-43e7-f8d0-9b2ce20cb8a0"
      },
      "execution_count": 58,
      "outputs": [
        {
          "output_type": "execute_result",
          "data": {
            "text/plain": [
              "{0: 0, 2: 4, 4: 16, 6: 36, 8: 64}"
            ]
          },
          "metadata": {},
          "execution_count": 58
        }
      ]
    },
    {
      "cell_type": "code",
      "source": [
        "odd_cubes = {y: y**3 for y in range(15) if y % 2 != 0}\n",
        "odd_cubes"
      ],
      "metadata": {
        "colab": {
          "base_uri": "https://localhost:8080/"
        },
        "id": "1w0-2L-1Jd8l",
        "outputId": "6c20983a-9948-45ae-87f4-25afaa921245"
      },
      "execution_count": 61,
      "outputs": [
        {
          "output_type": "execute_result",
          "data": {
            "text/plain": [
              "{1: 1, 3: 27, 5: 125, 7: 343, 9: 729, 11: 1331, 13: 2197}"
            ]
          },
          "metadata": {},
          "execution_count": 61
        }
      ]
    },
    {
      "cell_type": "markdown",
      "metadata": {
        "id": "238d113c"
      },
      "source": [
        "**Reasoning**:\n",
        "Write the code to solve Exercise 2 using dictionary comprehension.\n",
        "\n"
      ]
    },
    {
      "cell_type": "code",
      "metadata": {
        "colab": {
          "base_uri": "https://localhost:8080/"
        },
        "id": "413bdb6b",
        "outputId": "79614612-77a2-4b12-da33-535797a21eaa"
      },
      "source": [
        "# Exercise 2: Dictionary Comprehension Solution\n",
        "even_squares = {x: x**2 for x in range(9) if x % 2 == 0}\n",
        "print(\"\\nDictionary of even numbers and their squares (Exercise 2):\", even_squares)"
      ],
      "execution_count": 43,
      "outputs": [
        {
          "output_type": "stream",
          "name": "stdout",
          "text": [
            "\n",
            "Dictionary of even numbers and their squares (Exercise 2): {0: 0, 2: 4, 4: 16, 6: 36, 8: 64}\n"
          ]
        }
      ]
    },
    {
      "cell_type": "markdown",
      "metadata": {
        "id": "58c3ea7a"
      },
      "source": [
        "**Reasoning**:\n",
        "Write the code to solve Exercise 3 by creating the nested dictionary and accessing the specified element.\n",
        "\n"
      ]
    },
    {
      "cell_type": "code",
      "metadata": {
        "colab": {
          "base_uri": "https://localhost:8080/"
        },
        "id": "a782d639",
        "outputId": "e8bba533-8758-48df-8f1f-bdc7090fadfc"
      },
      "source": [
        "# Exercise 3: Nested Dictionary Solution\n",
        "\n",
        "# Create the nested dictionary\n",
        "students = {\n",
        "    'student1': {\n",
        "        'name': 'Alice',\n",
        "        'age': 21,\n",
        "        'grades': {'math': 90, 'science': 85, 'history': 92}\n",
        "    },\n",
        "    'student2': {\n",
        "        'name': 'Bob',\n",
        "        'age': 22,\n",
        "        'grades': {'math': 88, 'science': 91, 'history': 89}\n",
        "    }\n",
        "}\n",
        "\n",
        "print(\"\\nNested dictionary (Exercise 3):\", students)\n",
        "\n",
        "# Access and print the science score for 'student1'\n",
        "student1_science_score = students['student1']['grades']['science']\n",
        "print(\"Science score for student1:\", student1_science_score)"
      ],
      "execution_count": 44,
      "outputs": [
        {
          "output_type": "stream",
          "name": "stdout",
          "text": [
            "\n",
            "Nested dictionary (Exercise 3): {'student1': {'name': 'Alice', 'age': 21, 'grades': {'math': 90, 'science': 85, 'history': 92}}, 'student2': {'name': 'Bob', 'age': 22, 'grades': {'math': 88, 'science': 91, 'history': 89}}}\n",
            "Science score for student1: 85\n"
          ]
        }
      ]
    },
    {
      "cell_type": "markdown",
      "metadata": {
        "id": "a636373c"
      },
      "source": [
        "## Summary:\n",
        "\n",
        "### Data Analysis Key Findings\n",
        "\n",
        "*   Python dictionaries store data as unique key-value pairs.\n",
        "*   Dictionaries are mutable, allowing for modification (adding, changing, or removing pairs) after creation.\n",
        "*   From Python 3.7 onwards, dictionaries maintain insertion order.\n",
        "*   Basic operations include creating dictionaries using curly braces `{}`, accessing values using square brackets `[]` or the `get()` method, modifying values by assigning to a key, adding new pairs similarly, and removing pairs using `pop()` or `popitem()`.\n",
        "*   Common dictionary methods demonstrated include `get()` (safe access with default), `keys()` (view of keys), `values()` (view of values), `items()` (view of key-value tuples), `update()` (merging dictionaries), `pop()` (removing specific key), `popitem()` (removing arbitrary item), `clear()` (emptying dictionary), `setdefault()` (getting value or setting default if key doesn't exist), and `fromkeys()` (creating dictionary from keys).\n",
        "*   Dictionary comprehension provides a concise way to create dictionaries based on iterables, optionally with conditions.\n",
        "*   Nested dictionaries allow for representing hierarchical data structures.\n",
        "*   Dictionary views (`keys()`, `values()`, `items()`) are dynamic and reflect changes in the original dictionary in real-time.\n",
        "\n",
        "### Insights or Next Steps\n",
        "\n",
        "*   Understanding the difference between accessing values using `[]` (raises error if key not found) and `get()` (returns `None` or default value if key not found) is crucial for robust code.\n",
        "*   Leveraging dictionary comprehension can significantly simplify and improve the readability of code that involves creating dictionaries from other sequences or dictionaries.\n"
      ]
    }
  ]
}