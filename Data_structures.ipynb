{
  "cells": [
    {
      "cell_type": "markdown",
      "metadata": {
        "id": "view-in-github",
        "colab_type": "text"
      },
      "source": [
        "<a href=\"https://colab.research.google.com/github/omar4646/My_repository/blob/main/Data_structures.ipynb\" target=\"_parent\"><img src=\"https://colab.research.google.com/assets/colab-badge.svg\" alt=\"Open In Colab\"/></a>"
      ]
    },
    {
      "cell_type": "markdown",
      "metadata": {
        "id": "8E7Y46iNd2zw"
      },
      "source": [
        "Singly linked list"
      ]
    },
    {
      "cell_type": "code",
      "execution_count": null,
      "metadata": {
        "colab": {
          "base_uri": "https://localhost:8080/"
        },
        "id": "ulKm3GDowWVZ",
        "outputId": "087ba7ab-1baf-488c-c2fe-524f930bb911"
      },
      "outputs": [
        {
          "name": "stdout",
          "output_type": "stream",
          "text": [
            "10 20 30 40 50 "
          ]
        }
      ],
      "source": [
        "import numpy as np\n",
        "import matplotlib.pyplot as plt\n",
        "\n",
        "class Node:\n",
        "  def __init__(self, val):\n",
        "    self.val = val\n",
        "    self.next = None\n",
        "\n",
        "head = Node(10)\n",
        "head.next = Node(20)\n",
        "head.next.next = Node(30)\n",
        "head.next.next.next = Node(40)\n",
        "head.next.next.next.next = Node(50)\n",
        "curr = head\n",
        "while curr is not None:\n",
        "  print(curr.val, end = ' ')\n",
        "  curr = curr.next"
      ]
    },
    {
      "cell_type": "markdown",
      "metadata": {
        "id": "PTUu-nwvewFU"
      },
      "source": [
        "Double linked list"
      ]
    },
    {
      "cell_type": "code",
      "execution_count": null,
      "metadata": {
        "colab": {
          "base_uri": "https://localhost:8080/"
        },
        "id": "kABDttcKZu5M",
        "outputId": "6e46c99a-482a-4664-df1b-579a81193334"
      },
      "outputs": [
        {
          "name": "stdout",
          "output_type": "stream",
          "text": [
            "10 -> 20 -> 30 -> 40 "
          ]
        }
      ],
      "source": [
        "class Node:\n",
        "  def __init__(self, val):\n",
        "    self.val = val\n",
        "    self.prev = None\n",
        "    self.next = None\n",
        "if __name__  == '__main__':\n",
        "  head = Node(10)\n",
        "  head.next = Node(20)\n",
        "  head.next.prev = head\n",
        "  head.next.next = Node(30)\n",
        "  head.next.next.prev = head.next\n",
        "  head.next.next.next = Node(40)\n",
        "  head.next.next.next.prev = head.next.next\n",
        "\n",
        "  curr = head\n",
        "  while curr is not None:\n",
        "    print(curr.val, end = ' ')\n",
        "    if curr.next is not None:\n",
        "      print('->', end = ' ')\n",
        "    curr = curr.next\n"
      ]
    },
    {
      "cell_type": "markdown",
      "metadata": {
        "id": "wWCll24AhzaW"
      },
      "source": [
        "Exercise to count nods     # 1 -> 3 -> 1 -> 2 -> 1\n"
      ]
    },
    {
      "cell_type": "code",
      "execution_count": null,
      "metadata": {
        "colab": {
          "base_uri": "https://localhost:8080/"
        },
        "id": "wBgKhV-cf1DE",
        "outputId": "307d6760-136a-4d38-dbf2-e33460633f6a"
      },
      "outputs": [
        {
          "name": "stdout",
          "output_type": "stream",
          "text": [
            "Count of Nodes is: 5\n"
          ]
        }
      ],
      "source": [
        "class Node:\n",
        "  def __init__(self, val):\n",
        "    self.val = val\n",
        "    self.next = None\n",
        "def count(head):\n",
        "  count = 0\n",
        "  curr = head\n",
        "  while curr is not None:\n",
        "    count += 1\n",
        "    curr = curr.next\n",
        "  return count\n",
        "\n",
        "if __name__ == '__main__':\n",
        "\n",
        "    head = Node(1)\n",
        "    head.next = Node(3)\n",
        "    head.next.next = Node(1)\n",
        "    head.next.next.next = Node(2)\n",
        "    head.next.next.next.next = Node(1)\n",
        "print('Count of Nodes is:', count(head))"
      ]
    },
    {
      "cell_type": "markdown",
      "metadata": {
        "id": "ZvHl8dFXkl9D"
      },
      "source": [
        "Recursive Approach to Find the Length of a Linked List: Count of nodes is 5\n"
      ]
    },
    {
      "cell_type": "code",
      "execution_count": null,
      "metadata": {
        "colab": {
          "base_uri": "https://localhost:8080/"
        },
        "id": "eTPn6ve6kowH",
        "outputId": "ce25940e-1cee-4814-fc58-8bd3eb0d0f96"
      },
      "outputs": [
        {
          "name": "stdout",
          "output_type": "stream",
          "text": [
            "Count of Nodes is: 5\n"
          ]
        }
      ],
      "source": [
        "class Node:\n",
        "  def __init__(self, val):\n",
        "    self.val = val\n",
        "    self.next = None\n",
        "def rec_count(head):\n",
        "  if head is None:\n",
        "    return 0\n",
        "  return 1 + rec_count(head.next)\n",
        "\n",
        "  if __name__ == '__main__':\n",
        "    head = Node(1)\n",
        "    head.next = Node(3)\n",
        "    head.next.next = Node(1)\n",
        "    head.next.next.next = Node(2)\n",
        "    head.next.next.next.next = Node(1)\n",
        "print('Count of Nodes is:', rec_count(head))"
      ]
    },
    {
      "cell_type": "markdown",
      "metadata": {
        "id": "JkDsghYNlxD0"
      },
      "source": [
        "Print Linked List\n"
      ]
    },
    {
      "cell_type": "code",
      "execution_count": null,
      "metadata": {
        "colab": {
          "base_uri": "https://localhost:8080/"
        },
        "id": "JpvKO9ZDlxeO",
        "outputId": "25743d9e-9720-4a9a-9445-a05835014a44"
      },
      "outputs": [
        {
          "name": "stdout",
          "output_type": "stream",
          "text": [
            "1 -> 3 -> 1 -> 2 -> 1 \n"
          ]
        }
      ],
      "source": [
        "class Node:\n",
        "  def __init__(self, val):\n",
        "    self.val = val\n",
        "    self.next = None\n",
        "def print_node(node):\n",
        "  while node is not None:\n",
        "    print(f'{node.val}', end = ' ')\n",
        "    if node.next is not None:\n",
        "      print('->', end = ' ')\n",
        "    node = node.next\n",
        "  print()\n",
        "if __name__ == '__main__':\n",
        "  head = Node(1)\n",
        "  head.next = Node(3)\n",
        "  head.next.next = Node(1)\n",
        "  head.next.next.next = Node(2)\n",
        "  head.next.next.next.next = Node(1)\n",
        "  print_node(head)\n",
        "\n"
      ]
    },
    {
      "cell_type": "markdown",
      "metadata": {
        "id": "LAQx5aFQqAYP"
      },
      "source": [
        "Search key value in linked list"
      ]
    },
    {
      "cell_type": "code",
      "execution_count": null,
      "metadata": {
        "colab": {
          "base_uri": "https://localhost:8080/"
        },
        "id": "yNMkRmpZnFyq",
        "outputId": "ed0d3aa5-4361-4a44-a797-f76d2f51a647"
      },
      "outputs": [
        {
          "name": "stdout",
          "output_type": "stream",
          "text": [
            "Key is present\n"
          ]
        }
      ],
      "source": [
        "class Node:\n",
        "  def __init__(self, val):\n",
        "    self.val = val\n",
        "    self.next = None\n",
        "\n",
        "def search_key(head, key):\n",
        "  if head is None:\n",
        "    return False\n",
        "  if head.val == key:\n",
        "    return True\n",
        "\n",
        "  return search_key(head.next, key)\n",
        "\n",
        "if __name__ == '__main__':\n",
        "    head = Node(1)\n",
        "    head.next = Node(2)\n",
        "    head.next.next = Node(3)\n",
        "    head.next.next.next = Node(4)\n",
        "    head.next.next.next.next = Node(3)\n",
        "    head.next.next.next.next.next = Node(6)\n",
        "    head.next.next.next.next.next.next = Node(7)\n",
        "    head.next.next.next.next.next.next.next = Node(8)\n",
        "    key = 3\n",
        "if search_key(head, key):\n",
        "  print('Key is present')\n",
        "else:\n",
        "  print('Key is not present')\n"
      ]
    },
    {
      "cell_type": "markdown",
      "metadata": {
        "id": "AowDGdMSwdiF"
      },
      "source": [
        "Inserting new node"
      ]
    },
    {
      "cell_type": "code",
      "execution_count": null,
      "metadata": {
        "colab": {
          "base_uri": "https://localhost:8080/"
        },
        "id": "yuPT3uTBrwOC",
        "outputId": "09c4e1c4-aa48-4687-d64e-059d5dcc3c74"
      },
      "outputs": [
        {
          "name": "stdout",
          "output_type": "stream",
          "text": [
            "1 -> 2 -> 3 -> 4 -> 3 -> 6 -> 7 -> 8 5 -> 1 -> 2 -> 3 -> 4 -> 3 -> 6 -> 7 -> 8 "
          ]
        }
      ],
      "source": [
        "class Node:\n",
        "  def __init__(self, val):\n",
        "    self.val = val\n",
        "    self.next = None\n",
        "def insertNewNode(head, x):\n",
        "  newnode = Node(x)\n",
        "  newnode.next = head\n",
        "  return newnode\n",
        "def printOldNode(head):\n",
        "  curr = head\n",
        "  while curr is not None:\n",
        "    print(f'{curr.val}', end = ' ')\n",
        "    if curr.next is not None:\n",
        "      print('->', end = ' ')\n",
        "    curr = curr.next\n",
        "\n",
        "def printNewNode(head):\n",
        "  curr = head\n",
        "  while curr is not None:\n",
        "    print(f'{curr.val}', end = ' ')\n",
        "    if curr.next is not None:\n",
        "      print('->', end = ' ')\n",
        "    curr = curr.next\n",
        "if __name__ == '__main__':\n",
        "  head = Node(1)\n",
        "  head.next = Node(2)\n",
        "  head.next.next = Node(3)\n",
        "  head.next.next.next = Node(4)\n",
        "  head.next.next.next.next = Node(3)\n",
        "  head.next.next.next.next.next = Node(6)\n",
        "  head.next.next.next.next.next.next = Node(7)\n",
        "  head.next.next.next.next.next.next.next = Node(8)\n",
        "  x = 5\n",
        "  printOldNode(head)\n",
        "  head_1 = insertNewNode(head, x)\n",
        "\n",
        "  printNewNode(head_1)\n"
      ]
    },
    {
      "cell_type": "markdown",
      "metadata": {
        "id": "zWF9GY5l1deD"
      },
      "source": [
        "Deleting the node of linked list"
      ]
    },
    {
      "cell_type": "code",
      "execution_count": null,
      "metadata": {
        "colab": {
          "base_uri": "https://localhost:8080/"
        },
        "id": "X8OFGIc_yrdD",
        "outputId": "f9e1eb12-4926-411c-e387-7fdc3801ed5a"
      },
      "outputs": [
        {
          "name": "stdout",
          "output_type": "stream",
          "text": [
            "2 -> 3 -> 1 -> 7 "
          ]
        }
      ],
      "source": [
        "class Node:\n",
        "  def __init__(self, val):\n",
        "    self.val = val\n",
        "    self.next = None\n",
        "def deleteNode(head):\n",
        "  if head is None:\n",
        "    return None\n",
        "  temp = head\n",
        "  head = head.next\n",
        "  temp = None\n",
        "  return head\n",
        "def printthehead(curr):\n",
        "  while curr is not None:\n",
        "    print(f'{curr.val}', end = ' ')\n",
        "    if curr.next is not None:\n",
        "      print('->', end = ' ')\n",
        "    curr = curr.next\n",
        "if __name__ == '__main__':\n",
        "  head = Node(8)\n",
        "  head.next = Node(2)\n",
        "  head.next.next = Node(3)\n",
        "  head.next.next.next = Node(1)\n",
        "  head.next.next.next.next = Node(7)\n",
        "  head = deleteNode(head)\n",
        "  printthehead(head)"
      ]
    },
    {
      "cell_type": "markdown",
      "metadata": {
        "id": "xZOYvIaaHyno"
      },
      "source": [
        "Deleting the node at certain point"
      ]
    },
    {
      "cell_type": "code",
      "execution_count": null,
      "metadata": {
        "colab": {
          "base_uri": "https://localhost:8080/"
        },
        "id": "vKjJEuMjHyTt",
        "outputId": "ea8b92d2-6964-4ba5-ac4f-502b966de87d"
      },
      "outputs": [
        {
          "name": "stdout",
          "output_type": "stream",
          "text": [
            "1 -> 2 -> 4 "
          ]
        }
      ],
      "source": [
        "class Node:\n",
        "  def __init__(self, val):\n",
        "    self.val = val\n",
        "    self.next = None\n",
        "def deletenode(head, position):\n",
        "  temp = head\n",
        "  if position == 1:\n",
        "    head = temp.next\n",
        "    return head\n",
        "  prev = None\n",
        "  for i in range(1, position):\n",
        "    prev = temp\n",
        "    temp = temp.next\n",
        "  prev.next = temp.next\n",
        "  return head\n",
        "def printnode(head):\n",
        "  while head is not None:\n",
        "    print(f'{head.val}', end = ' ')\n",
        "    if head.next is not None:\n",
        "      print('->', end = ' ')\n",
        "    head = head.next\n",
        "if __name__ == '__main__':\n",
        "  head = Node(1)\n",
        "  head.next = Node(2)\n",
        "  head.next.next = Node(0)\n",
        "  head.next.next.next = Node(4)\n",
        "head = deletenode(head, 3)\n",
        "printnode(head)\n",
        "\n"
      ]
    },
    {
      "cell_type": "markdown",
      "metadata": {
        "id": "oNEEdRSTCeHq"
      },
      "source": [
        "Deleting the Node at the end of the linked list"
      ]
    },
    {
      "cell_type": "code",
      "execution_count": null,
      "metadata": {
        "colab": {
          "base_uri": "https://localhost:8080/"
        },
        "id": "cn8yfdeFLfKN",
        "outputId": "584e4ab4-bb1a-4b86-894f-0118f77ab13b"
      },
      "outputs": [
        {
          "name": "stdout",
          "output_type": "stream",
          "text": [
            "1 -> 2 -> 3 -> None\n"
          ]
        }
      ],
      "source": [
        "class Node:\n",
        "  def __init__(self, val):\n",
        "    self.val = val\n",
        "    self.next = None\n",
        "def DeleteLast(head):\n",
        "  if head is None:\n",
        "    return None\n",
        "  if head.next is None:\n",
        "    return None\n",
        "  sec_last = head\n",
        "  while sec_last.next.next is not None:\n",
        "    sec_last = sec_last.next\n",
        "  sec_last.next = None\n",
        "  return head\n",
        "\n",
        "def printer(head):\n",
        "  while head is not None:\n",
        "    print(f'{head.val} ->', end = ' ')\n",
        "    head = head.next\n",
        "  print('None')\n",
        "\n",
        "if __name__ == '__main__':\n",
        "  head = Node(1)\n",
        "  head.next = Node(2)\n",
        "  head.next.next = Node(3)\n",
        "  head.next.next.next = Node(4)\n",
        "\n",
        "head = DeleteLast(head)\n",
        "printer(head)\n",
        "\n",
        "\n"
      ]
    },
    {
      "cell_type": "markdown",
      "metadata": {
        "id": "CIO7v_2_eZx9"
      },
      "source": [
        "Finding the value of index"
      ]
    },
    {
      "cell_type": "code",
      "execution_count": null,
      "metadata": {
        "colab": {
          "base_uri": "https://localhost:8080/"
        },
        "id": "VTBn59WhG4jD",
        "outputId": "b0abfaf1-6018-47b8-b312-5353a14dcfac"
      },
      "outputs": [
        {
          "name": "stdout",
          "output_type": "stream",
          "text": [
            "The index value at 3 is:  11\n"
          ]
        }
      ],
      "source": [
        "class Node:\n",
        "  def __init__(self, val):\n",
        "    self.val = val\n",
        "    self.next = None\n",
        "def FindIndexVal(head, index):\n",
        "  if head is None:\n",
        "    return -1\n",
        "  if index == 1:\n",
        "    return head.val\n",
        "  else:\n",
        "    return FindIndexVal(head.next, index-1)\n",
        "\n",
        "\n",
        "if __name__=='__main__':\n",
        "  head = Node(3)\n",
        "  head.next = Node(1)\n",
        "  head.next.next = Node(21)\n",
        "  head.next.next.next = Node(11)\n",
        "\n",
        "  head = FindIndexVal(head, 4)\n",
        "  print('The index value at 3 is: ', head)"
      ]
    },
    {
      "cell_type": "markdown",
      "metadata": {
        "id": "2Yo5QtKGn6lK"
      },
      "source": [
        "Finding the value of index (Iterative Method: O(n) time complexity and O(1) space complexity)"
      ]
    },
    {
      "cell_type": "code",
      "execution_count": null,
      "metadata": {
        "colab": {
          "base_uri": "https://localhost:8080/"
        },
        "id": "AdEthqhWf8PG",
        "outputId": "282801d3-14cd-49a8-96a7-5fc18e284337"
      },
      "outputs": [
        {
          "name": "stdout",
          "output_type": "stream",
          "text": [
            "The given index 10 is out of bounds\n"
          ]
        }
      ],
      "source": [
        "class Node:\n",
        "  def __init__(self, val):\n",
        "    self.val = val\n",
        "    self.next = None\n",
        "def FindIndexValue(head, n):\n",
        "  curr = head\n",
        "  count = 1\n",
        "\n",
        "  while curr is not None:\n",
        "    if count == n:\n",
        "      return curr.val\n",
        "    count += 1\n",
        "    curr = curr.next\n",
        "  return -1\n",
        "if __name__ == '__main__':\n",
        "  head = Node(3)\n",
        "  head.next = Node(1)\n",
        "  head.next.next = Node(21)\n",
        "  head.next.next.next = Node(11)\n",
        "  n = 10\n",
        "  result = FindIndexValue(head, n)\n",
        "  if result != -1:\n",
        "    print(f'The index value of {n}: {result}')\n",
        "  else:\n",
        "    print(f'The given index {n} is out of bounds')"
      ]
    },
    {
      "cell_type": "markdown",
      "metadata": {
        "id": "tgGVCcB4vvq3"
      },
      "source": [
        "[Naive Approach] Finding the length of list - Two Pass - O(M) Time and O(1) Space"
      ]
    },
    {
      "cell_type": "code",
      "execution_count": null,
      "metadata": {
        "colab": {
          "base_uri": "https://localhost:8080/"
        },
        "id": "_R1wIfLPrBDe",
        "outputId": "3600c62d-1c14-4bed-ff05-b9723ff36509"
      },
      "outputs": [
        {
          "name": "stdout",
          "output_type": "stream",
          "text": [
            "The reversed index value of 1: 5\n"
          ]
        }
      ],
      "source": [
        "class Node:\n",
        "  def __init__(self, val):\n",
        "    self.val = val\n",
        "    self.next = None\n",
        "def FindIndexList(head, n):\n",
        "  temp = head\n",
        "  length = 0\n",
        "\n",
        "  while temp is not None:\n",
        "    length += 1\n",
        "    temp = temp.next\n",
        "\n",
        "  if length < n:\n",
        "    return -1\n",
        "\n",
        "  temp = head\n",
        "\n",
        "  for _ in range(1, length - n + 1):\n",
        "    temp = temp.next\n",
        "  return temp.val\n",
        "\n",
        "if __name__=='__main__':\n",
        "  head = Node(1)\n",
        "  head.next = Node(2)\n",
        "  head.next.next = Node(3)\n",
        "  head.next.next.next = Node(4)\n",
        "  head.next.next.next.next = Node(5)\n",
        "  n = 1\n",
        "  result = FindIndexList(head, n)\n",
        "\n",
        "  if result != -1:\n",
        "    print(f'The reversed index value of {n}: {result}')\n",
        "  else:\n",
        "    print(f'The given index {n} is out of bounds')\n",
        "\n",
        "\n"
      ]
    },
    {
      "cell_type": "markdown",
      "metadata": {
        "id": "R_wM8qmMMUW2"
      },
      "source": [
        "Find the size of linked list (iterative approach)"
      ]
    },
    {
      "cell_type": "code",
      "execution_count": null,
      "metadata": {
        "colab": {
          "base_uri": "https://localhost:8080/"
        },
        "id": "8u21BvTszuiQ",
        "outputId": "42cf4dc3-49f4-4ad5-f27c-00fc683a99df"
      },
      "outputs": [
        {
          "name": "stdout",
          "output_type": "stream",
          "text": [
            "4\n"
          ]
        }
      ],
      "source": [
        " class Node:\n",
        "  def __init__(self, val):\n",
        "    self.val = val\n",
        "    self.next = None\n",
        "    self.prev = None\n",
        "\n",
        "def FindSize(curr):\n",
        "  size = 0\n",
        "  while curr:\n",
        "    size += 1\n",
        "    curr = curr.next\n",
        "  return size\n",
        "if __name__ == '__main__':\n",
        "  head = Node(1)\n",
        "  head.next = Node(2)\n",
        "  head.next.prev = head\n",
        "  head.next.next = Node(3)\n",
        "  head.next.next.prev = head.next\n",
        "  head.next.next.next = Node(4)\n",
        "  head.next.next.next.prev = head.next.next\n",
        "\n",
        "print(FindSize(head))"
      ]
    },
    {
      "cell_type": "markdown",
      "metadata": {
        "id": "l2KaEbeUPBgd"
      },
      "source": [
        "Finding the size of linked list (recursive approach)"
      ]
    },
    {
      "cell_type": "code",
      "execution_count": null,
      "metadata": {
        "colab": {
          "base_uri": "https://localhost:8080/"
        },
        "id": "vXop1Xm3Ozbz",
        "outputId": "87a74c58-2616-4c8d-c2d1-bdd0e6c1fe44"
      },
      "outputs": [
        {
          "name": "stdout",
          "output_type": "stream",
          "text": [
            "4\n"
          ]
        }
      ],
      "source": [
        "class Node:\n",
        "  def __init__(self, val):\n",
        "    self.val = val\n",
        "    self.next = None\n",
        "    self.prev = None\n",
        "def FindSize(head):\n",
        "  if head is None:\n",
        "    return 0\n",
        "  else:\n",
        "    return 1 + FindSize(head.next)\n",
        "if __name__ == '__main__':\n",
        "  head = Node(1)\n",
        "  head.next = Node(2)\n",
        "  head.next.prev = head\n",
        "  head.next.next = Node(3)\n",
        "  head.next.next.prev = head.next\n",
        "  head.next.next.next = Node(4)\n",
        "  head.next.next.next.prev = head.next.next\n",
        "  print(FindSize(head))"
      ]
    },
    {
      "cell_type": "code",
      "execution_count": null,
      "metadata": {
        "colab": {
          "base_uri": "https://localhost:8080/"
        },
        "id": "8zzLSDiWSBpp",
        "outputId": "5955ca3c-1313-4333-b8f4-f22b1b1a840c"
      },
      "outputs": [
        {
          "name": "stdout",
          "output_type": "stream",
          "text": [
            "\n"
          ]
        }
      ],
      "source": [
        "class Node:\n",
        "  def __init__(self, val):\n",
        "    self.val = val\n",
        "    self.next = None\n",
        "\n",
        "def DeleteNode(head, k):\n",
        "  if head is None or k <= 0:\n",
        "    return head\n",
        "  curr = head\n",
        "  count = 0\n",
        "  prev = None\n",
        "\n",
        "  while curr is not None:\n",
        "    count += 1\n",
        "\n",
        "    if count % k == 0:\n",
        "      if prev is not None:\n",
        "        prev.next = curr.next\n",
        "      else:\n",
        "        head = curr.next\n",
        "      curr = curr.next # Move curr to the next node after deletion\n",
        "    else:\n",
        "      prev = curr\n",
        "      curr = curr.next # Move curr to the next node when not deleting\n",
        "\n",
        "  return head\n",
        "\n",
        "def PrintList(head):\n",
        "  curr = head\n",
        "  while curr is not None:\n",
        "    print(f'{curr.val}', end = ' ')\n",
        "    if curr.next is not None:\n",
        "      print('->', end = ' ')\n",
        "    curr = curr.next\n",
        "  print()\n",
        "if __name__ == '__main__':\n",
        "  head = Node(1)\n",
        "  head.next = Node(2)\n",
        "  head.next.next = Node(3)\n",
        "  k = 1\n",
        "  new_list = DeleteNode(head, k)\n",
        "  PrintList(new_list)"
      ]
    },
    {
      "cell_type": "markdown",
      "metadata": {
        "id": "CwGJyfxdRxz3"
      },
      "source": [
        "Middle Node in Linked list (Naive approach)"
      ]
    },
    {
      "cell_type": "code",
      "execution_count": null,
      "metadata": {
        "colab": {
          "base_uri": "https://localhost:8080/"
        },
        "id": "WrUchLdIX58X",
        "outputId": "3f07caf6-3ca2-47cd-bedc-4222475205ea"
      },
      "outputs": [
        {
          "name": "stdout",
          "output_type": "stream",
          "text": [
            "40\n"
          ]
        }
      ],
      "source": [
        "class Node:\n",
        "  def __init__(self, val):\n",
        "    self.val = val\n",
        "    self.next = None\n",
        "\n",
        "def getlen(head):\n",
        "  length = 0\n",
        "  while head is not None:\n",
        "    length += 1\n",
        "    head = head.next\n",
        "  return length\n",
        "\n",
        "def middlenode(head):\n",
        "  length = getlen(head)\n",
        "\n",
        "  midIndex = length / 2\n",
        "  while midIndex:\n",
        "    head = head.next\n",
        "    midIndex -= 1\n",
        "  return head.val\n",
        "if __name__ == '__main__':\n",
        "    head = Node(10)\n",
        "    head.next = Node(20)\n",
        "    head.next.next = Node(30)\n",
        "    head.next.next.next = Node(40)\n",
        "    head.next.next.next.next = Node(50)\n",
        "    head.next.next.next.next.next = Node(60)\n",
        "    print(middlenode(head))\n"
      ]
    },
    {
      "cell_type": "markdown",
      "metadata": {
        "id": "I8Burnj1VV7t"
      },
      "source": [
        " Middle Node in Linked list [Expected Approach] Hare and Tortoise Algorithm"
      ]
    },
    {
      "cell_type": "code",
      "execution_count": null,
      "metadata": {
        "colab": {
          "base_uri": "https://localhost:8080/"
        },
        "id": "JhIHE0R_Tjl1",
        "outputId": "53141a50-eceb-4250-cdf2-0289663b91d7"
      },
      "outputs": [
        {
          "name": "stdout",
          "output_type": "stream",
          "text": [
            "40\n"
          ]
        }
      ],
      "source": [
        "class Node:\n",
        "  def __init__(self, val):\n",
        "    self.val = val\n",
        "    self.next = None\n",
        "def gettomiddle(head):\n",
        "  slow = head\n",
        "  fast = head\n",
        "\n",
        "  while fast is not None and fast.next is not None:\n",
        "    fast = fast.next.next\n",
        "    slow = slow.next\n",
        "  return slow.val\n",
        "if __name__ == '__main__':\n",
        "    head = Node(10)\n",
        "    head.next = Node(20)\n",
        "    head.next.next = Node(30)\n",
        "    head.next.next.next = Node(40)\n",
        "    head.next.next.next.next = Node(50)\n",
        "    head.next.next.next.next.next = Node(60)\n",
        "    print(gettomiddle(head))"
      ]
    },
    {
      "cell_type": "markdown",
      "metadata": {
        "id": "uJkJUaz2Ryse"
      },
      "source": [
        "Finding the number of key values in linked list (Recursive approach)"
      ]
    },
    {
      "cell_type": "code",
      "execution_count": null,
      "metadata": {
        "colab": {
          "base_uri": "https://localhost:8080/"
        },
        "id": "8UT50tbYX6AR",
        "outputId": "a08235a3-4875-40bb-d06e-f31380d2cc74"
      },
      "outputs": [
        {
          "name": "stdout",
          "output_type": "stream",
          "text": [
            "3\n"
          ]
        }
      ],
      "source": [
        "class Node:\n",
        "  def __init__(self, val):\n",
        "    self.val = val\n",
        "    self.next = None\n",
        "def countkey(head, k):\n",
        "  if head is None:\n",
        "    return 0\n",
        "  ans = countkey(head.next, k)\n",
        "  if head.val == k:\n",
        "    ans += 1\n",
        "  return ans\n",
        "\n",
        "head = Node(1)\n",
        "head.next = Node(1)\n",
        "head.next.next = Node(2)\n",
        "head.next.next.next = Node(1)\n",
        "print(countkey(head, 1))"
      ]
    },
    {
      "cell_type": "markdown",
      "metadata": {
        "id": "RqP-VD6dXfsT"
      },
      "source": [
        "Finding the number of key values in linked list (Iterative approach)"
      ]
    },
    {
      "cell_type": "code",
      "execution_count": null,
      "metadata": {
        "colab": {
          "base_uri": "https://localhost:8080/"
        },
        "id": "4Ze05yyaRr0O",
        "outputId": "6f8ba7d8-f869-4b0a-8084-58fd90fa71de"
      },
      "outputs": [
        {
          "name": "stdout",
          "output_type": "stream",
          "text": [
            "3\n"
          ]
        }
      ],
      "source": [
        "class Node:\n",
        "  def __init__(self, val):\n",
        "    self.val = val\n",
        "    self.next = None\n",
        "def count(head, k):\n",
        "  curr = head\n",
        "  count = 0\n",
        "  while curr is not None:\n",
        "    if curr.val == k:\n",
        "      count += 1\n",
        "    curr = curr.next\n",
        "  return count\n",
        "head = Node(1)\n",
        "head.next = Node(2)\n",
        "head.next.next = Node(1)\n",
        "head.next.next.next = Node(1)\n",
        "print(count(head, 1))"
      ]
    },
    {
      "cell_type": "markdown",
      "metadata": {
        "id": "qHBPQPUgaM8b"
      },
      "source": [
        "Traversal of Circular Linked List (expected approach)-Recursive"
      ]
    },
    {
      "cell_type": "code",
      "execution_count": null,
      "metadata": {
        "colab": {
          "base_uri": "https://localhost:8080/"
        },
        "id": "EexFXMRoYp9t",
        "outputId": "9cebcf8c-ce5d-4892-ddf0-6478338f7b1c"
      },
      "outputs": [
        {
          "name": "stdout",
          "output_type": "stream",
          "text": [
            "1 2 3 "
          ]
        }
      ],
      "source": [
        "class Node:\n",
        "  def __init__(self, val):\n",
        "    self.val = val\n",
        "    self.next = None\n",
        "def printlist(curr, head):\n",
        "  if head is None:\n",
        "    return\n",
        "  print(curr.val, end = ' ')\n",
        "\n",
        "  if curr.next == head:\n",
        "    return\n",
        "  printlist(curr.next, head)\n",
        "if __name__=='__main__':\n",
        "  head = Node(1)\n",
        "  head.next = Node(2)\n",
        "  head.next.next = Node(3)\n",
        "  head.next.next.next = head\n",
        "  printlist(head, head)\n",
        "\n"
      ]
    },
    {
      "cell_type": "markdown",
      "metadata": {
        "id": "YzshPEM6gG-d"
      },
      "source": [
        "Printing the circular linked list (Iterative appraoch)"
      ]
    },
    {
      "cell_type": "code",
      "execution_count": null,
      "metadata": {
        "colab": {
          "base_uri": "https://localhost:8080/"
        },
        "id": "x8IRcy3XdGn7",
        "outputId": "8bddbd28-918b-4931-e577-947e4ea20ced"
      },
      "outputs": [
        {
          "name": "stdout",
          "output_type": "stream",
          "text": [
            "1 2 3 \n"
          ]
        }
      ],
      "source": [
        "class Node:\n",
        "  def __init__(self, val):\n",
        "    self.val = val\n",
        "    self.next = None\n",
        "def print_list(head):\n",
        "  if head is None:\n",
        "    return\n",
        "  curr = head\n",
        "  while True:\n",
        "    print(curr.val, end = ' ')\n",
        "    curr = curr.next\n",
        "    if curr == head:\n",
        "      break\n",
        "  print()\n",
        "head = Node(1)\n",
        "head.next = Node(2)\n",
        "head.next.next = Node(3)\n",
        "head.next.next.next = head\n",
        "print_list(head)"
      ]
    },
    {
      "cell_type": "markdown",
      "metadata": {
        "id": "k0J4tb6cNctE"
      },
      "source": [
        "Cheking if the linked list is circular (Iterative method)"
      ]
    },
    {
      "cell_type": "code",
      "execution_count": null,
      "metadata": {
        "colab": {
          "base_uri": "https://localhost:8080/"
        },
        "id": "SEaXvi6UiBd7",
        "outputId": "1877f286-41d1-4aa0-abd7-8cac8802023c"
      },
      "outputs": [
        {
          "name": "stdout",
          "output_type": "stream",
          "text": [
            "No\n",
            "Yes\n"
          ]
        }
      ],
      "source": [
        "class Node:\n",
        "  def __init__(self, val):\n",
        "    self.val = val\n",
        "    self.next = None\n",
        "def CheckList(head):\n",
        "  if not head:\n",
        "    return False\n",
        "  temp = head\n",
        "  while head and head.next != temp:\n",
        "    head = head.next\n",
        "  if not head or not head.next:\n",
        "    return False\n",
        "  return True\n",
        "if __name__ == '__main__':\n",
        "  head = Node(1)\n",
        "  head.next = Node(2)\n",
        "  head.next.next = Node(3)\n",
        "  print('Yes' if CheckList(head) is True else 'No')\n",
        "  head.next.next.next = head\n",
        "  print('Yes' if CheckList(head) is True else 'No')"
      ]
    },
    {
      "cell_type": "markdown",
      "metadata": {
        "id": "2dWCa7gxQk2T"
      },
      "source": [
        "Cheking if the linked list is circular (By maintaining slow and fast pointers method)"
      ]
    },
    {
      "cell_type": "code",
      "execution_count": null,
      "metadata": {
        "colab": {
          "base_uri": "https://localhost:8080/"
        },
        "id": "dv3MssQYQCBz",
        "outputId": "5b5c0891-5b7c-4d36-e97b-0758668f2e89"
      },
      "outputs": [
        {
          "name": "stdout",
          "output_type": "stream",
          "text": [
            "No\n",
            "Yes\n"
          ]
        }
      ],
      "source": [
        "class Node:\n",
        "  def __init__(self, val):\n",
        "    self.val = val\n",
        "    self.next = None\n",
        "def isCircular(head):\n",
        "  if not head:\n",
        "    return True\n",
        "  slow = head\n",
        "  fast = head.next\n",
        "  while fast and fast.next:\n",
        "    if slow == fast:\n",
        "      return True\n",
        "    slow = slow.next\n",
        "    fast = fast.next.next\n",
        "  return False\n",
        "if __name__ == '__main__':\n",
        "  head = Node(1)\n",
        "  head.next = Node(2)\n",
        "  head.next.next = Node(3)\n",
        "  print('Yes' if isCircular(head) is True else 'No')\n",
        "  head.next.next.next = head\n",
        "  print('Yes' if isCircular(head) is True else 'No')\n"
      ]
    },
    {
      "cell_type": "markdown",
      "metadata": {
        "id": "jtx1DD6aXMPU"
      },
      "source": [
        "Counting the Nodes of linked list (iterative approach time O(n) and space O(1))"
      ]
    },
    {
      "cell_type": "code",
      "execution_count": null,
      "metadata": {
        "colab": {
          "base_uri": "https://localhost:8080/"
        },
        "id": "xizOZI_vVyb1",
        "outputId": "a24cbefb-ec88-4145-d276-07524981c3ab"
      },
      "outputs": [
        {
          "name": "stdout",
          "output_type": "stream",
          "text": [
            "5\n"
          ]
        }
      ],
      "source": [
        "class Node:\n",
        "  def __init__(self, val):\n",
        "    self.val = val\n",
        "    self.next = None\n",
        "def count(head):\n",
        "  if head == None:\n",
        "    return 0\n",
        "  curr = head\n",
        "  result = 0\n",
        "  while True:\n",
        "    curr = curr.next\n",
        "    result += 1\n",
        "    if curr == head:\n",
        "      break\n",
        "  return result\n",
        "\n",
        "if __name__=='__main__':\n",
        "    # create list: 1->2->3->4->5--->1\n",
        "  head = Node(1)\n",
        "  head.next = Node(2)\n",
        "  head.next.next = Node(3)\n",
        "  head.next.next.next = Node(4)\n",
        "  head.next.next.next.next = Node(5)\n",
        "  head.next.next.next.next.next = head\n",
        "\n",
        "  print(count(head))"
      ]
    },
    {
      "cell_type": "code",
      "execution_count": null,
      "metadata": {
        "id": "x-sPwav7YpPm"
      },
      "outputs": [],
      "source": []
    },
    {
      "cell_type": "markdown",
      "metadata": {
        "id": "52il9-cUbEJB"
      },
      "source": [
        "Deleting the Node from beginning and within and last ( O(1) and O(1))"
      ]
    },
    {
      "cell_type": "code",
      "execution_count": null,
      "metadata": {
        "colab": {
          "base_uri": "https://localhost:8080/"
        },
        "id": "WxD5QmOUbQuZ",
        "outputId": "88ead16d-8721-4e4d-851f-2cfcf16f09b8"
      },
      "outputs": [
        {
          "name": "stdout",
          "output_type": "stream",
          "text": [
            "2 <-> 3 <-> 4 <-> 5 \n"
          ]
        }
      ],
      "source": [
        "class Node:\n",
        "  def __init__(self, val):\n",
        "    self.val = val\n",
        "    self.next = None\n",
        "def Delete(last):\n",
        "  if last is None:\n",
        "    print('List is empty')\n",
        "    return None\n",
        "  head = last.next\n",
        "  if head == last:\n",
        "    last = None\n",
        "  else:\n",
        "    last.next = head.next\n",
        "  return last\n",
        "def printlist(last):\n",
        "  if last is None:\n",
        "    return None\n",
        "  head = last.next\n",
        "  while True:\n",
        "    print(head.val, end = ' ')\n",
        "    head = head.next\n",
        "    if head == last.next:\n",
        "      break\n",
        "    print('<->', end = ' ')\n",
        "  print()\n",
        "if __name__ == '__main__':\n",
        "  first = Node(1)\n",
        "  first.next = Node(2)\n",
        "  first.next.next = Node(3)\n",
        "  first.next.next.next = Node(4)\n",
        "  first.next.next.next.next = Node(5)\n",
        "  last = first.next.next.next.next\n",
        "  last.next = first\n",
        "  last = Delete(last)\n",
        "  printlist(last)"
      ]
    },
    {
      "cell_type": "markdown",
      "metadata": {
        "id": "YVWX4JRBo1Vi"
      },
      "source": [
        "Delete the node with given key"
      ]
    },
    {
      "cell_type": "code",
      "execution_count": null,
      "metadata": {
        "colab": {
          "base_uri": "https://localhost:8080/"
        },
        "id": "yaJpa_-Ogdgf",
        "outputId": "d5e1d107-6b6b-44e3-d6a7-70608eec1529"
      },
      "outputs": [
        {
          "name": "stdout",
          "output_type": "stream",
          "text": [
            "1 <-> 2 <-> 4 <-> 5 \n"
          ]
        }
      ],
      "source": [
        "# Create node constructor\n",
        "class Node:\n",
        "  def __init__(self, val):\n",
        "    self.val = val\n",
        "    self.next = None\n",
        "# Define delete function\n",
        "def DeleteKey(last, key):\n",
        "  # check the list if it's empty\n",
        "  if last is None:\n",
        "    return None\n",
        "  # assigning two pointers using last node\n",
        "  curr = last.next\n",
        "  prev = last\n",
        "# if the there is only one node and it's a node that is being deleted, set the last = None\n",
        "  if curr == last and curr.val == key:\n",
        "    last = None\n",
        "    return last\n",
        "# ifthe head is being deleted,\n",
        "  if curr.val == key:\n",
        "    last.next = curr.next\n",
        "    return last\n",
        "# traverse till the end or node will match the key\n",
        "  while curr != last and curr.val != key:\n",
        "    prev = curr\n",
        "    curr = curr.next\n",
        "# if it matches, skip the current node\n",
        "  if curr.val == key:\n",
        "    prev.next = curr.next\n",
        "    # if it's last node, set it to previous\n",
        "    if curr == last:\n",
        "      last = prev\n",
        "  return last\n",
        "def printnode(last):\n",
        "  if last is None:\n",
        "    return None\n",
        "  curr = last.next\n",
        "  while True:\n",
        "    print(curr.val, end = ' ')\n",
        "    curr = curr.next\n",
        "    if curr == last.next:\n",
        "      break\n",
        "    print('<->', end = ' ')\n",
        "  print()\n",
        "if __name__ == '__main__':\n",
        "  first = Node(1)\n",
        "  first.next = Node(2)\n",
        "  first.next.next = Node(3)\n",
        "  first.next.next.next = Node(4)\n",
        "  first.next.next.next.next = Node(5)\n",
        "  last = first.next.next.next.next\n",
        "  last.next = first\n",
        "  last = DeleteKey(last, 3)\n",
        "  printnode(last)"
      ]
    },
    {
      "cell_type": "markdown",
      "metadata": {
        "id": "FD7sKL8A3acH"
      },
      "source": [
        "Delete the last node of circular list"
      ]
    },
    {
      "cell_type": "code",
      "execution_count": null,
      "metadata": {
        "colab": {
          "base_uri": "https://localhost:8080/"
        },
        "id": "GUfasSomua8g",
        "outputId": "83e67d22-80fd-45a3-80c2-9caa1945863e"
      },
      "outputs": [
        {
          "name": "stdout",
          "output_type": "stream",
          "text": [
            "1 <-> 2 <-> 3 <-> 4 \n"
          ]
        }
      ],
      "source": [
        "class Node:\n",
        "  def __init__(self, val):\n",
        "    self.val = val\n",
        "    self.next = None\n",
        "def deleteEnd(last):\n",
        "  if last is None:\n",
        "    return None\n",
        "  head = last.next\n",
        "  if head == last:\n",
        "    last = None\n",
        "    return last\n",
        "  curr = head\n",
        "  while curr.next != last:\n",
        "    curr = curr.next\n",
        "  curr.next = head\n",
        "  last = curr\n",
        "  return last\n",
        "def printNode(last):\n",
        "  if last is None:\n",
        "    return\n",
        "  head = last.next\n",
        "  while True:\n",
        "    print(head.val, end = ' ')\n",
        "    head = head.next\n",
        "    if head == last.next:\n",
        "      break\n",
        "    print('<->', end = ' ')\n",
        "  print()\n",
        "if __name__ == '__main__':\n",
        "   first = Node(1)\n",
        "   first.next = Node(2)\n",
        "   first.next.next = Node(3)\n",
        "   first.next.next.next = Node(4)\n",
        "   first.next.next.next.next = Node(5)\n",
        "   last = first.next.next.next.next\n",
        "   last.next = first\n",
        "   last = deleteEnd(last)\n",
        "   printNode(last)\n"
      ]
    },
    {
      "cell_type": "markdown",
      "metadata": {
        "id": "J_BzVIwrPMFT"
      },
      "source": [
        "Turning the singly linked list to the circular (recursive appraoch)"
      ]
    },
    {
      "cell_type": "code",
      "execution_count": null,
      "metadata": {
        "colab": {
          "base_uri": "https://localhost:8080/"
        },
        "id": "1vQHIDlJ6VmP",
        "outputId": "eae9cfd9-5d5c-4ea1-dbcd-986f9f4e6723"
      },
      "outputs": [
        {
          "name": "stdout",
          "output_type": "stream",
          "text": [
            "1 <-> 2 <-> 3 <-> 4 <-> 5 \n"
          ]
        }
      ],
      "source": [
        "class Node:\n",
        "  def __init__(self, val):\n",
        "    self.val = val\n",
        "    self.next = None\n",
        "def circular(curr, head):\n",
        "  if curr.next == None:\n",
        "    curr.next = head\n",
        "    return head\n",
        "  return circular(curr.next, head)\n",
        "def printcircular(head):\n",
        "  curr = head\n",
        "  while True:\n",
        "    print(curr.val, end = ' ')\n",
        "    curr = curr.next\n",
        "    if curr == head:\n",
        "      break\n",
        "    print('<->', end = ' ')\n",
        "  print()\n",
        "if __name__ == '__main__':\n",
        "  head = Node(1)\n",
        "  head.next = Node(2)\n",
        "  head.next.next = Node(3)\n",
        "  head.next.next.next = Node(4)\n",
        "  head.next.next.next.next = Node(5)\n",
        "  head = circular(head, head)\n",
        "  printcircular(head)"
      ]
    },
    {
      "cell_type": "markdown",
      "metadata": {
        "id": "BuG6fekAUCCw"
      },
      "source": []
    },
    {
      "cell_type": "markdown",
      "metadata": {
        "id": "RDuDvp9rYf_q"
      },
      "source": [
        "Turning the singly linked list to the circular (iterative appraoch)"
      ]
    },
    {
      "cell_type": "code",
      "execution_count": null,
      "metadata": {
        "colab": {
          "base_uri": "https://localhost:8080/"
        },
        "id": "2usxeggQTdBR",
        "outputId": "69c640b0-86ff-40fa-d9a8-f2e95d1db758"
      },
      "outputs": [
        {
          "name": "stdout",
          "output_type": "stream",
          "text": [
            "1 <-> 2 <-> 3 <-> 4 <-> 5 \n"
          ]
        }
      ],
      "source": [
        "class Node:\n",
        "  def __init__(self, val):\n",
        "    self.val = val\n",
        "    self.next = None\n",
        "def circular(head):\n",
        "  curr = head\n",
        "  while curr.next is not None:\n",
        "    curr = curr.next\n",
        "  curr.next = head\n",
        "  return\n",
        "def printcircular(head):\n",
        "  curr = head\n",
        "  while True:\n",
        "    print(curr.val, end = ' ')\n",
        "    curr = curr.next\n",
        "    if curr == head:\n",
        "      break\n",
        "    print('<->', end = ' ')\n",
        "  print()\n",
        "if __name__ == '__main__':\n",
        "  head = Node(1)\n",
        "  head.next = Node(2)\n",
        "  head.next.next = Node(3)\n",
        "  head.next.next.next = Node(4)\n",
        "  head.next.next.next.next = Node(5)\n",
        "  circular(head)\n",
        "  printcircular(head)"
      ]
    },
    {
      "cell_type": "markdown",
      "metadata": {
        "id": "UnUoAg4_fOlk"
      },
      "source": [
        "Exchanging the first and last nodes of circular list"
      ]
    },
    {
      "cell_type": "code",
      "execution_count": null,
      "metadata": {
        "colab": {
          "base_uri": "https://localhost:8080/"
        },
        "id": "ucAbHQduY-GX",
        "outputId": "69b85555-2831-4a84-e74b-8a2bd668fbaa"
      },
      "outputs": [
        {
          "name": "stdout",
          "output_type": "stream",
          "text": [
            "List Before: 6 1 2 3 4 5 \n",
            "List After: 5 1 2 3 4 6 "
          ]
        }
      ],
      "source": [
        "# last node in circular linked list\n",
        "import math\n",
        "\n",
        "\n",
        "class Node:\n",
        "    def __init__(self, data):\n",
        "        self.data = data\n",
        "        self.next = None\n",
        "\n",
        "\n",
        "def addToEmpty(head, data):\n",
        "\n",
        "    # This function is only for empty list\n",
        "    if (head != None):\n",
        "        return head\n",
        "\n",
        "    # Creating a node dynamically.\n",
        "    temp = Node(data)\n",
        "\n",
        "    # Assigning the data.\n",
        "    temp.data = data\n",
        "    head = temp\n",
        "\n",
        "    # Creating the link.\n",
        "    head.next = head\n",
        "    return head\n",
        "\n",
        "\n",
        "def addBegin(head, data):\n",
        "\n",
        "    if (head == None):\n",
        "        return addToEmpty(head, data)\n",
        "\n",
        "    temp = Node(data)\n",
        "    temp.data = data\n",
        "    temp.next = head.next\n",
        "    head.next = temp\n",
        "\n",
        "    return head\n",
        "\n",
        "# function for traversing the list\n",
        "\n",
        "\n",
        "def traverse(head):\n",
        "\n",
        "    # If list is empty, return.\n",
        "    if (head == None):\n",
        "\n",
        "        print(\"List is empty.\")\n",
        "        return\n",
        "\n",
        "    # Pointing to first Node of the list.\n",
        "    p = head\n",
        "    print(p.data, end=\" \")\n",
        "    p = p.next\n",
        "\n",
        "    # Traversing the list.\n",
        "    while(p != head):\n",
        "\n",
        "        print(p.data, end=\" \")\n",
        "        p = p.next\n",
        "\n",
        "\n",
        "def exchangeNodes(head):\n",
        "\n",
        "    # Cases Handled: Linked List either empty or containing single node.\n",
        "    if head == None or head.next == head:\n",
        "        return head\n",
        "    # Cases Handled: Linked List containing only two nodes\n",
        "    elif head.next.next == head:\n",
        "        head = head.next\n",
        "        return head\n",
        "    # Cases Handled: Linked List containing multiple nodes\n",
        "    else:\n",
        "        prev = None\n",
        "        curr = head\n",
        "        temp = head\n",
        "        # finding last and second last nodes in linkedlist list\n",
        "        while curr.next != head:\n",
        "            prev = curr\n",
        "            curr = curr.next\n",
        "\n",
        "        # point the last node to second node of the list\n",
        "        curr.next = temp.next\n",
        "        # point the second last node to first node\n",
        "        prev.next = temp\n",
        "        # point the end of node to start ( make linked list circular )\n",
        "        temp.next = curr\n",
        "        # mark the starting of linked list\n",
        "        head = curr\n",
        "\n",
        "        return head\n",
        "\n",
        "\n",
        "# Driver Code\n",
        "if __name__ == '__main__':\n",
        "\n",
        "    head = None\n",
        "    head = addToEmpty(head, 6)\n",
        "    for x in range(5, 0, -1):\n",
        "        head = addBegin(head, x)\n",
        "    print(\"List Before: \", end=\"\")\n",
        "    traverse(head)\n",
        "    print()\n",
        "\n",
        "    print(\"List After: \", end=\"\")\n",
        "    head = exchangeNodes(head)\n",
        "    traverse(head)\n",
        "\n",
        "# This code is contributed by Srathore\n",
        "# Improved by Vinay Kumar (vinaykumar71)"
      ]
    },
    {
      "cell_type": "markdown",
      "metadata": {
        "id": "gSqGWLfLYlJ1"
      },
      "source": [
        "Deletion in doubly linked list"
      ]
    },
    {
      "cell_type": "code",
      "execution_count": 5,
      "metadata": {
        "colab": {
          "base_uri": "https://localhost:8080/"
        },
        "id": "r5DMTgReY0dU",
        "outputId": "cabb5a44-d0f9-42c9-b0b2-ce13cea08158"
      },
      "outputs": [
        {
          "output_type": "stream",
          "name": "stdout",
          "text": [
            "2 3 4 \n"
          ]
        }
      ],
      "source": [
        "class Node:\n",
        "  def __init__(self, val):\n",
        "    self.val = val\n",
        "    self.next = None\n",
        "    self.prev = None\n",
        "def delNode(head):\n",
        "  if head is None:\n",
        "    return None\n",
        "  temp = head\n",
        "  head = head.next\n",
        "  if head is not None:\n",
        "    head.prev = None\n",
        "  return head\n",
        "def printList(head):\n",
        "  curr = head\n",
        "  while curr is not None:\n",
        "    print(curr.val, end = ' ')\n",
        "    curr = curr.next\n",
        "  print()\n",
        "if __name__ == '__main__':\n",
        "  head = Node(1)\n",
        "  head.next = Node(2)\n",
        "  head.next.prev = head\n",
        "  head.next.next = Node(3)\n",
        "  head.next.next.prev = head.next\n",
        "  head.next.next.next = Node(4)\n",
        "  head.next.next.next.prev = head.next.next\n",
        "  head = delNode(head)\n",
        "  printList(head)\n",
        "\n"
      ]
    },
    {
      "cell_type": "markdown",
      "source": [
        "Deletion a node before given key"
      ],
      "metadata": {
        "id": "jgY9YCeSd7ya"
      }
    },
    {
      "cell_type": "code",
      "source": [
        "class Node:\n",
        "  def __init__(self, val):\n",
        "    self.val = val\n",
        "    self.next = None\n",
        "    self.prev = None\n",
        "def delNode(head, key):\n",
        "  curr = head\n",
        "  while curr is not None:\n",
        "    if curr.val == key:\n",
        "      break\n",
        "    curr = curr.next\n",
        "  if curr is None or curr.prev is None:\n",
        "    return head\n",
        "  nodeToDel = curr.prev\n",
        "  curr.prev = nodeToDel.prev\n",
        "  if nodeToDel.prev is not None:\n",
        "    nodeToDel.prev.next = curr\n",
        "  else:\n",
        "    head = curr\n",
        "  return head\n",
        "def printList(head):\n",
        "  curr = head\n",
        "  while curr is not None:\n",
        "    print(curr.val, end = ' ')\n",
        "    curr = curr.next\n",
        "  print()\n",
        "if __name__ == '__main__':\n",
        "  head = Node(1)\n",
        "  head.next = Node(2)\n",
        "  head.next.prev = head\n",
        "  head = delNode(head, 3)\n",
        "  printList(head)"
      ],
      "metadata": {
        "colab": {
          "base_uri": "https://localhost:8080/"
        },
        "id": "xJkW7D2VcHTX",
        "outputId": "af6f1249-c583-4540-89da-bd2db80784c9"
      },
      "execution_count": 25,
      "outputs": [
        {
          "output_type": "stream",
          "name": "stdout",
          "text": [
            "1 2 \n"
          ]
        }
      ]
    },
    {
      "cell_type": "markdown",
      "source": [
        "Deleting the certain key given node"
      ],
      "metadata": {
        "id": "Bjx07gVpkHdI"
      }
    },
    {
      "cell_type": "code",
      "source": [
        "class Node:\n",
        "  def __init__(self, data):\n",
        "      self.data = data\n",
        "      self.prev = None\n",
        "      self.next = None\n",
        "def delNode(head, k):\n",
        "  if head is None:\n",
        "    return head\n",
        "  curr = head\n",
        "  for _ in range(1, k):\n",
        "    if curr is None:\n",
        "      break\n",
        "    curr = curr.next\n",
        "  # If the position is out of range\n",
        "    if curr is None:\n",
        "        return head\n",
        "\n",
        "    # Update the previous node's next pointer\n",
        "    if curr.prev is not None:\n",
        "        curr.prev.next = curr.next\n",
        "\n",
        "    # Update the next node's prev pointer\n",
        "    if curr.next is not None:\n",
        "        curr.next.prev = curr.prev\n",
        "\n",
        "    # If the node to be deleted is the head node\n",
        "    if head == curr:\n",
        "        head = curr.next\n",
        "\n",
        "    # Return the updated head\n",
        "    return head\n",
        "\n",
        "def print_list(head):\n",
        "    curr = head\n",
        "    while curr is not None:\n",
        "        print(curr.data, end=\" \")\n",
        "        curr = curr.next\n",
        "    print()\n",
        "\n",
        "if __name__ == \"__main__\":\n",
        "\n",
        "  # Create a hardcoded doubly linked list:\n",
        "  # 1 <-> 2 <-> 3\n",
        "  head = Node(1)\n",
        "  head.next = Node(2)\n",
        "  head.next.prev = head\n",
        "  head.next.next = Node(3)\n",
        "  head.next.next.prev = head.next\n",
        "\n",
        "  head = delNode(head, 2)\n",
        "  print_list(head)\n",
        "\n",
        ""
      ],
      "metadata": {
        "colab": {
          "base_uri": "https://localhost:8080/"
        },
        "id": "YO4FddPSg3DV",
        "outputId": "96faac85-0f13-4be4-f063-49f4198cbca7"
      },
      "execution_count": 28,
      "outputs": [
        {
          "output_type": "stream",
          "name": "stdout",
          "text": [
            "1 3 \n"
          ]
        }
      ]
    },
    {
      "cell_type": "code",
      "source": [],
      "metadata": {
        "id": "_A0TGTSOlP1X"
      },
      "execution_count": null,
      "outputs": []
    }
  ],
  "metadata": {
    "colab": {
      "provenance": [],
      "authorship_tag": "ABX9TyNEznYwYqe/Z5PF1mZDSlOU",
      "include_colab_link": true
    },
    "kernelspec": {
      "display_name": "Python 3",
      "name": "python3"
    },
    "language_info": {
      "name": "python"
    }
  },
  "nbformat": 4,
  "nbformat_minor": 0
}