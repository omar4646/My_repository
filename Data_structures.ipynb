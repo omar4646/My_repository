{
  "nbformat": 4,
  "nbformat_minor": 0,
  "metadata": {
    "colab": {
      "provenance": [],
      "authorship_tag": "ABX9TyMWahz8XigSk7+z5xFG80MD",
      "include_colab_link": true
    },
    "kernelspec": {
      "name": "python3",
      "display_name": "Python 3"
    },
    "language_info": {
      "name": "python"
    }
  },
  "cells": [
    {
      "cell_type": "markdown",
      "metadata": {
        "id": "view-in-github",
        "colab_type": "text"
      },
      "source": [
        "<a href=\"https://colab.research.google.com/github/omar4646/My_repository/blob/main/Data_structures.ipynb\" target=\"_parent\"><img src=\"https://colab.research.google.com/assets/colab-badge.svg\" alt=\"Open In Colab\"/></a>"
      ]
    },
    {
      "cell_type": "markdown",
      "source": [
        "Singly linked list"
      ],
      "metadata": {
        "id": "8E7Y46iNd2zw"
      }
    },
    {
      "cell_type": "code",
      "source": [
        "import numpy as np\n",
        "import matplotlib.pyplot as plt\n",
        "\n",
        "class Node:\n",
        "  def __init__(self, val):\n",
        "    self.val = val\n",
        "    self.next = None\n",
        "\n",
        "head = Node(10)\n",
        "head.next = Node(20)\n",
        "head.next.next = Node(30)\n",
        "head.next.next.next = Node(40)\n",
        "head.next.next.next.next = Node(50)\n",
        "curr = head\n",
        "while curr is not None:\n",
        "  print(curr.val, end = ' ')\n",
        "  curr = curr.next"
      ],
      "metadata": {
        "colab": {
          "base_uri": "https://localhost:8080/"
        },
        "id": "ulKm3GDowWVZ",
        "outputId": "087ba7ab-1baf-488c-c2fe-524f930bb911"
      },
      "execution_count": 14,
      "outputs": [
        {
          "output_type": "stream",
          "name": "stdout",
          "text": [
            "10 20 30 40 50 "
          ]
        }
      ]
    },
    {
      "cell_type": "markdown",
      "source": [
        "Double linked list"
      ],
      "metadata": {
        "id": "PTUu-nwvewFU"
      }
    },
    {
      "cell_type": "code",
      "source": [
        "class Node:\n",
        "  def __init__(self, val):\n",
        "    self.val = val\n",
        "    self.prev = None\n",
        "    self.next = None\n",
        "if __name__  == '__main__':\n",
        "  head = Node(10)\n",
        "  head.next = Node(20)\n",
        "  head.next.prev = head\n",
        "  head.next.next = Node(30)\n",
        "  head.next.next.prev = head.next\n",
        "  head.next.next.next = Node(40)\n",
        "  head.next.next.next.prev = head.next.next\n",
        "\n",
        "  curr = head\n",
        "  while curr is not None:\n",
        "    print(curr.val, end = ' ')\n",
        "    if curr.next is not None:\n",
        "      print('->', end = ' ')\n",
        "    curr = curr.next\n"
      ],
      "metadata": {
        "colab": {
          "base_uri": "https://localhost:8080/"
        },
        "id": "kABDttcKZu5M",
        "outputId": "6e46c99a-482a-4664-df1b-579a81193334"
      },
      "execution_count": 16,
      "outputs": [
        {
          "output_type": "stream",
          "name": "stdout",
          "text": [
            "10 -> 20 -> 30 -> 40 "
          ]
        }
      ]
    },
    {
      "cell_type": "markdown",
      "source": [
        "Exercise to count nods     # 1 -> 3 -> 1 -> 2 -> 1\n"
      ],
      "metadata": {
        "id": "wWCll24AhzaW"
      }
    },
    {
      "cell_type": "code",
      "source": [
        "class Node:\n",
        "  def __init__(self, val):\n",
        "    self.val = val\n",
        "    self.next = None\n",
        "def count(head):\n",
        "  count = 0\n",
        "  curr = head\n",
        "  while curr is not None:\n",
        "    count += 1\n",
        "    curr = curr.next\n",
        "  return count\n",
        "\n",
        "if __name__ == '__main__':\n",
        "\n",
        "    head = Node(1)\n",
        "    head.next = Node(3)\n",
        "    head.next.next = Node(1)\n",
        "    head.next.next.next = Node(2)\n",
        "    head.next.next.next.next = Node(1)\n",
        "print('Count of Nodes is:', count(head))"
      ],
      "metadata": {
        "colab": {
          "base_uri": "https://localhost:8080/"
        },
        "id": "wBgKhV-cf1DE",
        "outputId": "307d6760-136a-4d38-dbf2-e33460633f6a"
      },
      "execution_count": 22,
      "outputs": [
        {
          "output_type": "stream",
          "name": "stdout",
          "text": [
            "Count of Nodes is: 5\n"
          ]
        }
      ]
    },
    {
      "cell_type": "markdown",
      "source": [
        "Recursive Approach to Find the Length of a Linked List: Count of nodes is 5\n"
      ],
      "metadata": {
        "id": "ZvHl8dFXkl9D"
      }
    },
    {
      "cell_type": "code",
      "source": [
        "class Node:\n",
        "  def __init__(self, val):\n",
        "    self.val = val\n",
        "    self.next = None\n",
        "def rec_count(head):\n",
        "  if head is None:\n",
        "    return 0\n",
        "  return 1 + rec_count(head.next)\n",
        "\n",
        "  if __name__ == '__main__':\n",
        "    head = Node(1)\n",
        "    head.next = Node(3)\n",
        "    head.next.next = Node(1)\n",
        "    head.next.next.next = Node(2)\n",
        "    head.next.next.next.next = Node(1)\n",
        "print('Count of Nodes is:', rec_count(head))"
      ],
      "metadata": {
        "colab": {
          "base_uri": "https://localhost:8080/"
        },
        "id": "eTPn6ve6kowH",
        "outputId": "ce25940e-1cee-4814-fc58-8bd3eb0d0f96"
      },
      "execution_count": 23,
      "outputs": [
        {
          "output_type": "stream",
          "name": "stdout",
          "text": [
            "Count of Nodes is: 5\n"
          ]
        }
      ]
    },
    {
      "cell_type": "markdown",
      "source": [
        "Print Linked List\n"
      ],
      "metadata": {
        "id": "JkDsghYNlxD0"
      }
    },
    {
      "cell_type": "code",
      "source": [
        "class Node:\n",
        "  def __init__(self, val):\n",
        "    self.val = val\n",
        "    self.next = None\n",
        "def print_node(node):\n",
        "  while node is not None:\n",
        "    print(f'{node.val}', end = ' ')\n",
        "    if node.next is not None:\n",
        "      print('->', end = ' ')\n",
        "    node = node.next\n",
        "  print()\n",
        "if __name__ == '__main__':\n",
        "  head = Node(1)\n",
        "  head.next = Node(3)\n",
        "  head.next.next = Node(1)\n",
        "  head.next.next.next = Node(2)\n",
        "  head.next.next.next.next = Node(1)\n",
        "  print_node(head)\n",
        "\n"
      ],
      "metadata": {
        "colab": {
          "base_uri": "https://localhost:8080/"
        },
        "id": "JpvKO9ZDlxeO",
        "outputId": "25743d9e-9720-4a9a-9445-a05835014a44"
      },
      "execution_count": 30,
      "outputs": [
        {
          "output_type": "stream",
          "name": "stdout",
          "text": [
            "1 -> 3 -> 1 -> 2 -> 1 \n"
          ]
        }
      ]
    },
    {
      "cell_type": "code",
      "source": [],
      "metadata": {
        "id": "yNMkRmpZnFyq"
      },
      "execution_count": null,
      "outputs": []
    }
  ]
}